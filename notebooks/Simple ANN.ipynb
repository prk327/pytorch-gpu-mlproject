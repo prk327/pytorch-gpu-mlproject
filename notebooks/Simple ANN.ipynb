{
 "cells": [
  {
   "cell_type": "markdown",
   "id": "f73d83de",
   "metadata": {},
   "source": [
    "#### Building a simple neural network from scratch"
   ]
  },
  {
   "cell_type": "markdown",
   "id": "799a5c02",
   "metadata": {},
   "source": [
    "#### The architecture of Artificial Neural Networks draws inspiration from the human brain"
   ]
  },
  {
   "cell_type": "code",
   "execution_count": 1,
   "id": "53972017",
   "metadata": {},
   "outputs": [],
   "source": [
    "# Important libraries to import\n",
    "import pandas as pd\n",
    "from IPython.display import display_markdown"
   ]
  },
  {
   "cell_type": "code",
   "execution_count": 2,
   "id": "3e62bbee",
   "metadata": {},
   "outputs": [],
   "source": [
    "# Load the data in to pandas\n",
    "\n",
    "TestData = pd.read_csv(\"data/SatisfactoryData/Satisfaction_Data.csv\")"
   ]
  },
  {
   "cell_type": "code",
   "execution_count": 3,
   "id": "e666aaf7",
   "metadata": {},
   "outputs": [
    {
     "data": {
      "text/html": [
       "<div>\n",
       "<style scoped>\n",
       "    .dataframe tbody tr th:only-of-type {\n",
       "        vertical-align: middle;\n",
       "    }\n",
       "\n",
       "    .dataframe tbody tr th {\n",
       "        vertical-align: top;\n",
       "    }\n",
       "\n",
       "    .dataframe thead th {\n",
       "        text-align: right;\n",
       "    }\n",
       "</style>\n",
       "<table border=\"1\" class=\"dataframe\">\n",
       "  <thead>\n",
       "    <tr style=\"text-align: right;\">\n",
       "      <th></th>\n",
       "      <th>Age</th>\n",
       "      <th>Severity</th>\n",
       "      <th>Surg-Med</th>\n",
       "      <th>Anxiety</th>\n",
       "      <th>Satisfaction</th>\n",
       "    </tr>\n",
       "  </thead>\n",
       "  <tbody>\n",
       "    <tr>\n",
       "      <th>0</th>\n",
       "      <td>55</td>\n",
       "      <td>50</td>\n",
       "      <td>0</td>\n",
       "      <td>2.1</td>\n",
       "      <td>68</td>\n",
       "    </tr>\n",
       "    <tr>\n",
       "      <th>1</th>\n",
       "      <td>46</td>\n",
       "      <td>24</td>\n",
       "      <td>1</td>\n",
       "      <td>2.8</td>\n",
       "      <td>77</td>\n",
       "    </tr>\n",
       "    <tr>\n",
       "      <th>2</th>\n",
       "      <td>30</td>\n",
       "      <td>46</td>\n",
       "      <td>1</td>\n",
       "      <td>3.3</td>\n",
       "      <td>96</td>\n",
       "    </tr>\n",
       "    <tr>\n",
       "      <th>3</th>\n",
       "      <td>35</td>\n",
       "      <td>48</td>\n",
       "      <td>1</td>\n",
       "      <td>4.5</td>\n",
       "      <td>80</td>\n",
       "    </tr>\n",
       "    <tr>\n",
       "      <th>4</th>\n",
       "      <td>59</td>\n",
       "      <td>58</td>\n",
       "      <td>0</td>\n",
       "      <td>2.0</td>\n",
       "      <td>43</td>\n",
       "    </tr>\n",
       "    <tr>\n",
       "      <th>5</th>\n",
       "      <td>61</td>\n",
       "      <td>60</td>\n",
       "      <td>0</td>\n",
       "      <td>5.1</td>\n",
       "      <td>44</td>\n",
       "    </tr>\n",
       "    <tr>\n",
       "      <th>6</th>\n",
       "      <td>74</td>\n",
       "      <td>65</td>\n",
       "      <td>1</td>\n",
       "      <td>5.5</td>\n",
       "      <td>26</td>\n",
       "    </tr>\n",
       "    <tr>\n",
       "      <th>7</th>\n",
       "      <td>38</td>\n",
       "      <td>42</td>\n",
       "      <td>1</td>\n",
       "      <td>3.2</td>\n",
       "      <td>88</td>\n",
       "    </tr>\n",
       "    <tr>\n",
       "      <th>8</th>\n",
       "      <td>27</td>\n",
       "      <td>42</td>\n",
       "      <td>0</td>\n",
       "      <td>3.1</td>\n",
       "      <td>75</td>\n",
       "    </tr>\n",
       "    <tr>\n",
       "      <th>9</th>\n",
       "      <td>51</td>\n",
       "      <td>50</td>\n",
       "      <td>1</td>\n",
       "      <td>2.4</td>\n",
       "      <td>57</td>\n",
       "    </tr>\n",
       "    <tr>\n",
       "      <th>10</th>\n",
       "      <td>53</td>\n",
       "      <td>38</td>\n",
       "      <td>1</td>\n",
       "      <td>2.2</td>\n",
       "      <td>56</td>\n",
       "    </tr>\n",
       "    <tr>\n",
       "      <th>11</th>\n",
       "      <td>41</td>\n",
       "      <td>30</td>\n",
       "      <td>0</td>\n",
       "      <td>2.1</td>\n",
       "      <td>88</td>\n",
       "    </tr>\n",
       "    <tr>\n",
       "      <th>12</th>\n",
       "      <td>37</td>\n",
       "      <td>31</td>\n",
       "      <td>0</td>\n",
       "      <td>1.9</td>\n",
       "      <td>88</td>\n",
       "    </tr>\n",
       "    <tr>\n",
       "      <th>13</th>\n",
       "      <td>24</td>\n",
       "      <td>34</td>\n",
       "      <td>0</td>\n",
       "      <td>3.1</td>\n",
       "      <td>102</td>\n",
       "    </tr>\n",
       "    <tr>\n",
       "      <th>14</th>\n",
       "      <td>42</td>\n",
       "      <td>30</td>\n",
       "      <td>0</td>\n",
       "      <td>3.0</td>\n",
       "      <td>88</td>\n",
       "    </tr>\n",
       "    <tr>\n",
       "      <th>15</th>\n",
       "      <td>50</td>\n",
       "      <td>48</td>\n",
       "      <td>1</td>\n",
       "      <td>4.2</td>\n",
       "      <td>70</td>\n",
       "    </tr>\n",
       "    <tr>\n",
       "      <th>16</th>\n",
       "      <td>58</td>\n",
       "      <td>61</td>\n",
       "      <td>1</td>\n",
       "      <td>4.6</td>\n",
       "      <td>52</td>\n",
       "    </tr>\n",
       "    <tr>\n",
       "      <th>17</th>\n",
       "      <td>60</td>\n",
       "      <td>71</td>\n",
       "      <td>1</td>\n",
       "      <td>5.3</td>\n",
       "      <td>43</td>\n",
       "    </tr>\n",
       "    <tr>\n",
       "      <th>18</th>\n",
       "      <td>62</td>\n",
       "      <td>62</td>\n",
       "      <td>0</td>\n",
       "      <td>7.2</td>\n",
       "      <td>46</td>\n",
       "    </tr>\n",
       "    <tr>\n",
       "      <th>19</th>\n",
       "      <td>68</td>\n",
       "      <td>38</td>\n",
       "      <td>0</td>\n",
       "      <td>7.8</td>\n",
       "      <td>56</td>\n",
       "    </tr>\n",
       "    <tr>\n",
       "      <th>20</th>\n",
       "      <td>70</td>\n",
       "      <td>41</td>\n",
       "      <td>1</td>\n",
       "      <td>7.0</td>\n",
       "      <td>59</td>\n",
       "    </tr>\n",
       "    <tr>\n",
       "      <th>21</th>\n",
       "      <td>79</td>\n",
       "      <td>66</td>\n",
       "      <td>1</td>\n",
       "      <td>6.2</td>\n",
       "      <td>26</td>\n",
       "    </tr>\n",
       "    <tr>\n",
       "      <th>22</th>\n",
       "      <td>63</td>\n",
       "      <td>31</td>\n",
       "      <td>1</td>\n",
       "      <td>4.1</td>\n",
       "      <td>52</td>\n",
       "    </tr>\n",
       "    <tr>\n",
       "      <th>23</th>\n",
       "      <td>39</td>\n",
       "      <td>42</td>\n",
       "      <td>0</td>\n",
       "      <td>3.5</td>\n",
       "      <td>83</td>\n",
       "    </tr>\n",
       "    <tr>\n",
       "      <th>24</th>\n",
       "      <td>49</td>\n",
       "      <td>40</td>\n",
       "      <td>1</td>\n",
       "      <td>2.1</td>\n",
       "      <td>75</td>\n",
       "    </tr>\n",
       "  </tbody>\n",
       "</table>\n",
       "</div>"
      ],
      "text/plain": [
       "    Age  Severity  Surg-Med  Anxiety  Satisfaction\n",
       "0    55        50         0      2.1            68\n",
       "1    46        24         1      2.8            77\n",
       "2    30        46         1      3.3            96\n",
       "3    35        48         1      4.5            80\n",
       "4    59        58         0      2.0            43\n",
       "5    61        60         0      5.1            44\n",
       "6    74        65         1      5.5            26\n",
       "7    38        42         1      3.2            88\n",
       "8    27        42         0      3.1            75\n",
       "9    51        50         1      2.4            57\n",
       "10   53        38         1      2.2            56\n",
       "11   41        30         0      2.1            88\n",
       "12   37        31         0      1.9            88\n",
       "13   24        34         0      3.1           102\n",
       "14   42        30         0      3.0            88\n",
       "15   50        48         1      4.2            70\n",
       "16   58        61         1      4.6            52\n",
       "17   60        71         1      5.3            43\n",
       "18   62        62         0      7.2            46\n",
       "19   68        38         0      7.8            56\n",
       "20   70        41         1      7.0            59\n",
       "21   79        66         1      6.2            26\n",
       "22   63        31         1      4.1            52\n",
       "23   39        42         0      3.5            83\n",
       "24   49        40         1      2.1            75"
      ]
     },
     "execution_count": 3,
     "metadata": {},
     "output_type": "execute_result"
    }
   ],
   "source": [
    "TestData"
   ]
  },
  {
   "cell_type": "code",
   "execution_count": 4,
   "id": "7ee1d919",
   "metadata": {},
   "outputs": [
    {
     "data": {
      "text/markdown": [
       "\n",
       "<h6>Below is the equation of Multiple Linear Regression Model for the above data sets:</h6><br>\n",
       "\\begin{equation}\n",
       "𝑌=𝛽_0+𝛽_1 𝑥_1+𝛽_2 𝑥_2+𝛽_3 𝑥_3+𝛽_4 𝑥_4+𝜖\n",
       "\\end{equation}\n"
      ]
     },
     "metadata": {},
     "output_type": "display_data"
    }
   ],
   "source": [
    "# Let first solve the equation using Simple Linear Regression\n",
    "display_markdown('''\n",
    "<h6>Below is the equation of Multiple Linear Regression Model for the above data sets:</h6><br>\n",
    "\\\\begin{equation}\n",
    "𝑌=𝛽_0+𝛽_1 𝑥_1+𝛽_2 𝑥_2+𝛽_3 𝑥_3+𝛽_4 𝑥_4+𝜖\n",
    "\\\\end{equation}\n",
    "''', raw=True)"
   ]
  },
  {
   "cell_type": "code",
   "execution_count": 5,
   "id": "d51f3b44",
   "metadata": {},
   "outputs": [
    {
     "data": {
      "text/markdown": [
       "\n",
       "The above equation is generally represended as:\n",
       "\\begin{equation}\n",
       "𝑌=𝛽_0+𝛽_1 𝑥_1+𝛽_2 𝑥_2+...+𝛽_k 𝑥_k+𝜖\n",
       "\\end{equation}\n",
       "Where:\n",
       "\n",
       "k = number of regressor variable\n",
       "\n",
       "p = number of parameters in the models\n",
       "\n",
       "p = k + 1\n"
      ]
     },
     "metadata": {},
     "output_type": "display_data"
    }
   ],
   "source": [
    "# Let first solve the equation using Simple Linear Regression\n",
    "display_markdown('''\n",
    "The above equation is generally represended as:\n",
    "\\\\begin{equation}\n",
    "𝑌=𝛽_0+𝛽_1 𝑥_1+𝛽_2 𝑥_2+...+𝛽_k 𝑥_k+𝜖\n",
    "\\\\end{equation}\n",
    "Where:\n",
    "\n",
    "k = number of regressor variable\n",
    "\n",
    "p = number of parameters in the models\n",
    "\n",
    "p = k + 1\n",
    "''', raw=True)"
   ]
  },
  {
   "cell_type": "code",
   "execution_count": 6,
   "id": "2aef049e",
   "metadata": {},
   "outputs": [
    {
     "data": {
      "text/markdown": [
       "\n",
       "The above equation can also be written in Matrix form:\n",
       "\\begin{equation}\n",
       "y=X𝛽+𝜖\n",
       "\\end{equation}\n",
       "Where:\n",
       "\\begin{equation}\n",
       "(observations) y = \n",
       "            \\begin{bmatrix}\n",
       "            y_{1} \\\\\n",
       "            y_{2} \\\\\n",
       "             . \\\\\n",
       "            . \\\\\n",
       "            . \\\\\n",
       "            y_{n}\n",
       "            \\end{bmatrix}\n",
       "\\end{equation}\n"
      ]
     },
     "metadata": {},
     "output_type": "display_data"
    }
   ],
   "source": [
    "# Let first solve the equation using Simple Linear Regression\n",
    "display_markdown('''\n",
    "The above equation can also be written in Matrix form:\n",
    "\\\\begin{equation}\n",
    "y=X𝛽+𝜖\n",
    "\\\\end{equation}\n",
    "Where:\n",
    "\\\\begin{equation}\n",
    "(observations) y = \n",
    "            \\\\begin{bmatrix}\n",
    "            y_{1} \\\\\\\\\n",
    "            y_{2} \\\\\\\\\n",
    "             . \\\\\\\\\n",
    "            . \\\\\\\\\n",
    "            . \\\\\\\\\n",
    "            y_{n}\n",
    "            \\\\end{bmatrix}\n",
    "\\\\end{equation}\n",
    "''', raw=True)"
   ]
  },
  {
   "cell_type": "code",
   "execution_count": 7,
   "id": "b5552464",
   "metadata": {},
   "outputs": [
    {
     "data": {
      "text/markdown": [
       "\n",
       "The below is the model matrix:\n",
       "\\begin{equation}\n",
       "X=\\begin{bmatrix}\n",
       "        1 & x_{11} & x_{12} & ... & x_{1k} \\\\\n",
       "        1 & x_{21} & x_{22} & ... & x_{2k} \\\\\n",
       "        . & . & . & ... & . \\\\\n",
       "        . & . & . & ... & . \\\\\n",
       "        . & . & . & ... & . \\\\\n",
       "        1 & x_{n1} & x_{n2} & ... & x_{nk} \\\\\n",
       "    \\end{bmatrix}\n",
       "\\end{equation}\n"
      ]
     },
     "metadata": {},
     "output_type": "display_data"
    }
   ],
   "source": [
    "# Let first solve the equation using Simple Linear Regression\n",
    "display_markdown('''\n",
    "The below is the model matrix:\n",
    "\\\\begin{equation}\n",
    "X=\\\\begin{bmatrix}\n",
    "        1 & x_{11} & x_{12} & ... & x_{1k} \\\\\\\\\n",
    "        1 & x_{21} & x_{22} & ... & x_{2k} \\\\\\\\\n",
    "        . & . & . & ... & . \\\\\\\\\n",
    "        . & . & . & ... & . \\\\\\\\\n",
    "        . & . & . & ... & . \\\\\\\\\n",
    "        1 & x_{n1} & x_{n2} & ... & x_{nk} \\\\\\\\\n",
    "    \\\\end{bmatrix}\n",
    "\\\\end{equation}\n",
    "''', raw=True)"
   ]
  },
  {
   "cell_type": "code",
   "execution_count": 8,
   "id": "384c331e",
   "metadata": {},
   "outputs": [
    {
     "data": {
      "text/markdown": [
       "\n",
       "Notice that we have include 1 in our matrix model\n",
       "The one is just a homogeneous vector which represent the bias term\n",
       "\n",
       "model parameter vector \n",
       "\\begin{equation}\n",
       "𝛽=\\begin{bmatrix}\n",
       "            𝛽_{0} \\\\\n",
       "            𝛽_{1} \\\\\n",
       "             . \\\\\n",
       "            . \\\\\n",
       "            . \\\\\n",
       "            𝛽_{k}\n",
       "            \\end{bmatrix}\n",
       "\\end{equation}\n"
      ]
     },
     "metadata": {},
     "output_type": "display_data"
    }
   ],
   "source": [
    "# Let first solve the equation using Simple Linear Regression\n",
    "display_markdown('''\n",
    "Notice that we have include 1 in our matrix model\n",
    "The one is just a homogeneous vector which represent the bias term\n",
    "\n",
    "model parameter vector \n",
    "\\\\begin{equation}\n",
    "𝛽=\\\\begin{bmatrix}\n",
    "            𝛽_{0} \\\\\\\\\n",
    "            𝛽_{1} \\\\\\\\\n",
    "             . \\\\\\\\\n",
    "            . \\\\\\\\\n",
    "            . \\\\\\\\\n",
    "            𝛽_{k}\n",
    "            \\\\end{bmatrix}\n",
    "\\\\end{equation}\n",
    "''', raw=True)"
   ]
  },
  {
   "cell_type": "code",
   "execution_count": 9,
   "id": "c4a31c8a",
   "metadata": {},
   "outputs": [
    {
     "data": {
      "text/markdown": [
       "\n",
       "Similarly we have the error term which is represented as: \n",
       "\n",
       "random errors\n",
       "\\begin{equation}\n",
       "𝜖=\\begin{bmatrix}\n",
       "            𝜖_{1} \\\\\n",
       "            𝜖_{2} \\\\\n",
       "             . \\\\\n",
       "            . \\\\\n",
       "            . \\\\\n",
       "            𝜖_{n}\n",
       "            \\end{bmatrix}\n",
       "\\end{equation}\n",
       "\n",
       "where n = number of observations\n"
      ]
     },
     "metadata": {},
     "output_type": "display_data"
    }
   ],
   "source": [
    "display_markdown('''\n",
    "Similarly we have the error term which is represented as: \n",
    "\n",
    "random errors\n",
    "\\\\begin{equation}\n",
    "𝜖=\\\\begin{bmatrix}\n",
    "            𝜖_{1} \\\\\\\\\n",
    "            𝜖_{2} \\\\\\\\\n",
    "             . \\\\\\\\\n",
    "            . \\\\\\\\\n",
    "            . \\\\\\\\\n",
    "            𝜖_{n}\n",
    "            \\\\end{bmatrix}\n",
    "\\\\end{equation}\n",
    "\n",
    "where n = number of observations\n",
    "''', raw=True)"
   ]
  },
  {
   "cell_type": "code",
   "execution_count": 10,
   "id": "87bd169a",
   "metadata": {},
   "outputs": [
    {
     "data": {
      "text/markdown": [
       "\n",
       "To solve the equation, We will first calculate the Sum of Square L\n",
       "\n",
       "and then we will try to minimise L using Least Square Estimator \n",
       "\\begin{equation}\n",
       "\\hat{𝜷}\n",
       "\\end{equation}\n",
       "and it is the solution for 𝜷 in the below equation:\n",
       "\\begin{equation}\n",
       "\\frac{\\partial L}{\\partial 𝜷}\n",
       "\\end{equation}\n",
       "\n",
       "Where we take the partial deravative of Sum of Square L with respect to \n",
       "each value in the 𝜷 vector and set it equal to 0\n"
      ]
     },
     "metadata": {},
     "output_type": "display_data"
    }
   ],
   "source": [
    "display_markdown('''\n",
    "To solve the equation, We will first calculate the Sum of Square L\n",
    "\n",
    "and then we will try to minimise L using Least Square Estimator \n",
    "\\\\begin{equation}\n",
    "\\\\hat{𝜷}\n",
    "\\\\end{equation}\n",
    "and it is the solution for 𝜷 in the below equation:\n",
    "\\\\begin{equation}\n",
    "\\\\frac{\\\\partial L}{\\\\partial 𝜷}\n",
    "\\\\end{equation}\n",
    "\n",
    "Where we take the partial deravative of Sum of Square L with respect to \n",
    "each value in the 𝜷 vector and set it equal to 0\n",
    "''', raw=True)"
   ]
  },
  {
   "cell_type": "code",
   "execution_count": 11,
   "id": "e0ab5f8f",
   "metadata": {},
   "outputs": [
    {
     "data": {
      "text/markdown": [
       "\n",
       "We can also use Minimization (calculus) formula of Normal Equations:\n",
       "\\begin{equation}\n",
       "    \\begin{bmatrix}\n",
       "        X{^T}.X\n",
       "    \\end{bmatrix} . \\hat{𝜷} = X{^T}.y\n",
       "\\end{equation}\n"
      ]
     },
     "metadata": {},
     "output_type": "display_data"
    }
   ],
   "source": [
    "display_markdown('''\n",
    "We can also use Minimization (calculus) formula of Normal Equations:\n",
    "\\\\begin{equation}\n",
    "    \\\\begin{bmatrix}\n",
    "        X{^T}.X\n",
    "    \\\\end{bmatrix} . \\hat{𝜷} = X{^T}.y\n",
    "\\\\end{equation}\n",
    "''', raw=True)"
   ]
  },
  {
   "cell_type": "code",
   "execution_count": 12,
   "id": "26b19c6d",
   "metadata": {},
   "outputs": [
    {
     "data": {
      "text/markdown": [
       "\n",
       "If we solve the normal equation for least square estimator\n",
       "we would come up with below equation:\n",
       "\\begin{equation}\n",
       "    \\hat{𝜷}=\\begin{bmatrix}\n",
       "        X{^T}.X\n",
       "    \\end{bmatrix} ^{-1}.X{^T}.y\n",
       "\\end{equation}\n",
       "\n",
       "This matrix equation provides the values of the model parameters that\n",
       "minimize Lease Square L.\n",
       "\n",
       "𝜷 hat is our estimate for all the parameters in the  models\n",
       "\n"
      ]
     },
     "metadata": {},
     "output_type": "display_data"
    }
   ],
   "source": [
    "display_markdown('''\n",
    "If we solve the normal equation for least square estimator\n",
    "we would come up with below equation:\n",
    "\\\\begin{equation}\n",
    "    \\hat{𝜷}=\\\\begin{bmatrix}\n",
    "        X{^T}.X\n",
    "    \\\\end{bmatrix} ^{-1}.X{^T}.y\n",
    "\\\\end{equation}\n",
    "\n",
    "This matrix equation provides the values of the model parameters that\n",
    "minimize Lease Square L.\n",
    "\n",
    "𝜷 hat is our estimate for all the parameters in the  models\n",
    "\n",
    "''', raw=True)"
   ]
  },
  {
   "cell_type": "code",
   "execution_count": 13,
   "id": "a92c5eeb",
   "metadata": {},
   "outputs": [],
   "source": [
    "# Lets define the X valiable \n",
    "Satisfaction_Data = pd.read_csv(\"data/SatisfactoryData/Satisfaction_Data.csv\")"
   ]
  },
  {
   "cell_type": "code",
   "execution_count": 14,
   "id": "a7dc3bd5",
   "metadata": {},
   "outputs": [],
   "source": [
    "# we know from our analysis, that\n",
    "\n",
    "feature_column  = [\"Age\", \"Severity\", \"Surg-Med\", \"Anxiety\"]\n",
    "\n",
    "observation_column = [\"Satisfaction\"]"
   ]
  },
  {
   "cell_type": "code",
   "execution_count": 15,
   "id": "d3e3dd3c",
   "metadata": {},
   "outputs": [
    {
     "name": "stderr",
     "output_type": "stream",
     "text": [
      "/opt/conda/lib/python3.8/site-packages/tqdm/auto.py:22: TqdmWarning: IProgress not found. Please update jupyter and ipywidgets. See https://ipywidgets.readthedocs.io/en/stable/user_install.html\n",
      "  from .autonotebook import tqdm as notebook_tqdm\n"
     ]
    }
   ],
   "source": [
    "# Import the required library first\n",
    "\n",
    "from statsModel import LeastSEModel as lem"
   ]
  },
  {
   "cell_type": "code",
   "execution_count": 16,
   "id": "04dad3cd",
   "metadata": {},
   "outputs": [],
   "source": [
    "ann = lem(Satisfaction_Data, feature_column, observation_column)"
   ]
  },
  {
   "cell_type": "code",
   "execution_count": 17,
   "id": "46631eaa",
   "metadata": {},
   "outputs": [],
   "source": [
    "# lets now unpact the feature and target data\n",
    "X, y  = ann.InitInput()"
   ]
  },
  {
   "cell_type": "code",
   "execution_count": 18,
   "id": "e84c3f7a",
   "metadata": {},
   "outputs": [
    {
     "data": {
      "text/plain": [
       "tensor([[143.8675],\n",
       "        [ -1.1172],\n",
       "        [ -0.5862],\n",
       "        [  0.4149],\n",
       "        [  1.3064]], device='cuda:0')"
      ]
     },
     "execution_count": 18,
     "metadata": {},
     "output_type": "execute_result"
    }
   ],
   "source": [
    "ann.LSE_Model()"
   ]
  },
  {
   "cell_type": "code",
   "execution_count": 19,
   "id": "074296ed",
   "metadata": {},
   "outputs": [
    {
     "data": {
      "text/markdown": [
       "\n",
       "Now we can use the estimate in our model for prediction\n",
       "we would come up with below equation:\n",
       "\\begin{equation}\n",
       "    \\hat{y}=X.\\hat{𝜷}\n",
       "\\end{equation}\n",
       "\n",
       "This would give us the prediction for our model.\n",
       "\n"
      ]
     },
     "metadata": {},
     "output_type": "display_data"
    }
   ],
   "source": [
    "display_markdown('''\n",
    "Now we can use the estimate in our model for prediction\n",
    "we would come up with below equation:\n",
    "\\\\begin{equation}\n",
    "    \\hat{y}=X.\\hat{𝜷}\n",
    "\\\\end{equation}\n",
    "\n",
    "This would give us the prediction for our model.\n",
    "\n",
    "''', raw=True)"
   ]
  },
  {
   "cell_type": "code",
   "execution_count": 20,
   "id": "73eb490e",
   "metadata": {},
   "outputs": [],
   "source": [
    "prediction = ann.LSE_Prediction()"
   ]
  },
  {
   "cell_type": "code",
   "execution_count": 21,
   "id": "595848ed",
   "metadata": {},
   "outputs": [
    {
     "data": {
      "text/plain": [
       "tensor([[ 55.8552],\n",
       "        [ 82.4806],\n",
       "        [ 88.1122],\n",
       "        [ 82.9214],\n",
       "        [ 46.5661],\n",
       "        [ 47.2091],\n",
       "        [ 30.6920],\n",
       "        [ 81.3889],\n",
       "        [ 93.1324],\n",
       "        [ 61.1307],\n",
       "        [ 65.6696],\n",
       "        [ 83.2200],\n",
       "        [ 86.8412],\n",
       "        [101.1736],\n",
       "        [ 83.2785],\n",
       "        [ 65.7718],\n",
       "        [ 49.7361],\n",
       "        [ 42.5541],\n",
       "        [ 47.6628],\n",
       "        [ 55.8126],\n",
       "        [ 51.1894],\n",
       "        [ 25.4344],\n",
       "        [ 61.0833],\n",
       "        [ 80.2487],\n",
       "        [ 68.8353]], device='cuda:0')"
      ]
     },
     "execution_count": 21,
     "metadata": {},
     "output_type": "execute_result"
    }
   ],
   "source": [
    "prediction"
   ]
  },
  {
   "cell_type": "code",
   "execution_count": 22,
   "id": "9d3812b2",
   "metadata": {},
   "outputs": [
    {
     "data": {
      "text/markdown": [
       "\n",
       "Now we need to calculate the Sum Of Square Errors\n",
       "we would come up with below equation:\n",
       "\\begin{equation}\n",
       "    SS_{E}= \\sum^{n}_{i=1} (y_{i} - \\hat{y}_{i})^2 \n",
       "\\end{equation}\n",
       "\n",
       "This would give us the residual\n",
       "\n"
      ]
     },
     "metadata": {},
     "output_type": "display_data"
    }
   ],
   "source": [
    "display_markdown('''\n",
    "Now we need to calculate the Sum Of Square Errors\n",
    "we would come up with below equation:\n",
    "\\\\begin{equation}\n",
    "    SS_{E}= \\sum^{n}_{i=1} (y_{i} - \\hat{y}_{i})^2 \n",
    "\\\\end{equation}\n",
    "\n",
    "This would give us the residual\n",
    "\n",
    "''', raw=True)"
   ]
  },
  {
   "cell_type": "code",
   "execution_count": 23,
   "id": "a31cff78",
   "metadata": {},
   "outputs": [],
   "source": [
    "ann.Generate_Model_Stats()"
   ]
  },
  {
   "cell_type": "code",
   "execution_count": 24,
   "id": "124fd717",
   "metadata": {},
   "outputs": [
    {
     "data": {
      "text/plain": [
       "tensor(1038.9468, device='cuda:0')"
      ]
     },
     "execution_count": 24,
     "metadata": {},
     "output_type": "execute_result"
    }
   ],
   "source": [
    "ann._SS_Residual"
   ]
  },
  {
   "cell_type": "code",
   "execution_count": 25,
   "id": "d83650a3",
   "metadata": {},
   "outputs": [
    {
     "data": {
      "text/markdown": [
       "\n",
       "After we have calculate the Sum of square errors, \n",
       "we can calculate the standard error \n",
       "\\begin{equation}\n",
       "    \\sigma^{2} = \\frac{\\sum^{n}_{i=1} e_{i}^{2}}{n-p}\n",
       "\\end{equation}\n",
       "The above equation can asle be written as se:\n",
       "\\begin{equation}\n",
       "    \\sigma = \\sqrt{\\frac{SS_{E}}{n-p}}\n",
       "\\end{equation}\n",
       "\n"
      ]
     },
     "metadata": {},
     "output_type": "display_data"
    }
   ],
   "source": [
    "display_markdown('''\n",
    "After we have calculate the Sum of square errors, \n",
    "we can calculate the standard error \n",
    "\\\\begin{equation}\n",
    "    \\sigma^{2} = \\\\frac{\\sum^{n}_{i=1} e_{i}^{2}}{n-p}\n",
    "\\\\end{equation}\n",
    "The above equation can asle be written as se:\n",
    "\\\\begin{equation}\n",
    "    \\sigma = \\sqrt{\\\\frac{SS_{E}}{n-p}}\n",
    "\\\\end{equation}\n",
    "\n",
    "''', raw=True)"
   ]
  },
  {
   "cell_type": "code",
   "execution_count": 26,
   "id": "e53b9b5c",
   "metadata": {},
   "outputs": [
    {
     "data": {
      "text/plain": [
       "tensor(7.2075, device='cuda:0')"
      ]
     },
     "execution_count": 26,
     "metadata": {},
     "output_type": "execute_result"
    }
   ],
   "source": [
    "ann._Standard_Error"
   ]
  },
  {
   "cell_type": "code",
   "execution_count": 27,
   "id": "eff48f69",
   "metadata": {},
   "outputs": [
    {
     "data": {
      "text/plain": [
       "25"
      ]
     },
     "execution_count": 27,
     "metadata": {},
     "output_type": "execute_result"
    }
   ],
   "source": [
    "ann._observations"
   ]
  },
  {
   "cell_type": "code",
   "execution_count": 28,
   "id": "c1d48323",
   "metadata": {},
   "outputs": [
    {
     "data": {
      "text/plain": [
       "5"
      ]
     },
     "execution_count": 28,
     "metadata": {},
     "output_type": "execute_result"
    }
   ],
   "source": [
    "ann._parameters"
   ]
  },
  {
   "cell_type": "code",
   "execution_count": 29,
   "id": "fcb240d1",
   "metadata": {},
   "outputs": [
    {
     "data": {
      "text/markdown": [
       "\n",
       "Now we need to calculate the standard error for beta estimates\n",
       "\\begin{equation}\n",
       "    se(\\hat{𝜷}_{j}) = \\sqrt{\\hat{\\sigma}^{2}C_{jj}}\n",
       "\\end{equation}\n",
       "\n",
       "Where C is the Xt_X_inv\n",
       "\\begin{equation}\n",
       "    C_{ij}=\\begin{bmatrix}\n",
       "        X{^T}.X\n",
       "    \\end{bmatrix} ^{-1}\n",
       "\\end{equation}\n",
       "\n",
       "And to get the standard error for beta estimate we need the diagonal element of C\n",
       "\n"
      ]
     },
     "metadata": {},
     "output_type": "display_data"
    }
   ],
   "source": [
    "display_markdown('''\n",
    "Now we need to calculate the standard error for beta estimates\n",
    "\\\\begin{equation}\n",
    "    se(\\hat{𝜷}_{j}) = \\sqrt{\\hat{\\sigma}^{2}C_{jj}}\n",
    "\\\\end{equation}\n",
    "\n",
    "Where C is the Xt_X_inv\n",
    "\\\\begin{equation}\n",
    "    C_{ij}=\\\\begin{bmatrix}\n",
    "        X{^T}.X\n",
    "    \\\\end{bmatrix} ^{-1}\n",
    "\\\\end{equation}\n",
    "\n",
    "And to get the standard error for beta estimate we need the diagonal element of C\n",
    "\n",
    "''', raw=True)"
   ]
  },
  {
   "cell_type": "code",
   "execution_count": 30,
   "id": "b3a0e403",
   "metadata": {},
   "outputs": [],
   "source": [
    "CJJ = ann._c_matrix_diag"
   ]
  },
  {
   "cell_type": "code",
   "execution_count": 31,
   "id": "e3ee4135",
   "metadata": {},
   "outputs": [
    {
     "data": {
      "text/plain": [
       "tensor([6.0437, 0.1383, 0.1356, 3.0078, 1.0841], device='cuda:0')"
      ]
     },
     "execution_count": 31,
     "metadata": {},
     "output_type": "execute_result"
    }
   ],
   "source": [
    "ann._SE_Of_Regression_Coefficient"
   ]
  },
  {
   "cell_type": "code",
   "execution_count": 32,
   "id": "d21ce42a",
   "metadata": {},
   "outputs": [
    {
     "data": {
      "text/markdown": [
       "\n",
       "Now we can use the standard error of regression coefficient to do our hypothesis testing\n",
       "\n",
       "There are two type of test that we can perfrom\n",
       "1. Test for Significance of Regression - Is the regression model significant as a whole\n",
       "\n",
       "2. Tests on Individual Regression Coefficients - Are individial coefficients significant?\n",
       "    a - If they are significant then we can leave them inthe model\n",
       "    b - if they are insignificant then we can remove them from our model\n",
       "\n"
      ]
     },
     "metadata": {},
     "output_type": "display_data"
    }
   ],
   "source": [
    "display_markdown('''\n",
    "Now we can use the standard error of regression coefficient to do our hypothesis testing\n",
    "\n",
    "There are two type of test that we can perfrom\n",
    "1. Test for Significance of Regression - Is the regression model significant as a whole\n",
    "\n",
    "2. Tests on Individual Regression Coefficients - Are individial coefficients significant?\n",
    "    a - If they are significant then we can leave them inthe model\n",
    "    b - if they are insignificant then we can remove them from our model\n",
    "\n",
    "''', raw=True)"
   ]
  },
  {
   "cell_type": "code",
   "execution_count": 33,
   "id": "82955bd5",
   "metadata": {},
   "outputs": [
    {
     "data": {
      "text/markdown": [
       "\n",
       "Test for Significance of Regression - Is the regression model significant as a whole\n",
       "\n",
       "In order to do the test we Analize the variance ANOVA\n",
       "\n",
       "First we define the total variability in our system using SSt\n",
       "\\begin{equation}\n",
       "    SS_{T}= \\sum^{n}_{i=1} (y_{i} - \\overline{y})^2 \n",
       "\\end{equation}\n",
       "\n",
       "We can also calculate SST By Using Sample Variance\n",
       "\\begin{equation}\n",
       "    S^{2}= \\frac{\\sum^{n}_{i=1} (y_{i} - \\overline{y})^2}{n-1}\n",
       "\\end{equation}\n",
       "\n",
       "Therefore:\n",
       "\\begin{equation}\n",
       "    SS_{T}= S^{2}.(n-1)\n",
       "\\end{equation}\n",
       "\n",
       "with n - 1 degress of freedom\n",
       "\n"
      ]
     },
     "metadata": {},
     "output_type": "display_data"
    }
   ],
   "source": [
    "display_markdown('''\n",
    "Test for Significance of Regression - Is the regression model significant as a whole\n",
    "\n",
    "In order to do the test we Analize the variance ANOVA\n",
    "\n",
    "First we define the total variability in our system using SSt\n",
    "\\\\begin{equation}\n",
    "    SS_{T}= \\sum^{n}_{i=1} (y_{i} - \\overline{y})^2 \n",
    "\\\\end{equation}\n",
    "\n",
    "We can also calculate SST By Using Sample Variance\n",
    "\\\\begin{equation}\n",
    "    S^{2}= \\\\frac{\\sum^{n}_{i=1} (y_{i} - \\overline{y})^2}{n-1}\n",
    "\\\\end{equation}\n",
    "\n",
    "Therefore:\n",
    "\\\\begin{equation}\n",
    "    SS_{T}= S^{2}.(n-1)\n",
    "\\\\end{equation}\n",
    "\n",
    "with n - 1 degress of freedom\n",
    "\n",
    "''', raw=True)"
   ]
  },
  {
   "cell_type": "code",
   "execution_count": 34,
   "id": "d36aae14",
   "metadata": {},
   "outputs": [
    {
     "data": {
      "text/markdown": [
       "\n",
       "We than partition the SST into two parts\n",
       "1. Variablity due to Model\n",
       "2. Variability due to random error\n",
       "\n",
       "For the regression to be \"significant\", we would expect most of the variability\n",
       "to be \"explained\" by model\n",
       "\n",
       "SST:\n",
       "\\begin{equation}\n",
       "    SS_{T}= SS_{R} + SS_{E}\n",
       "\\end{equation}\n",
       "\n",
       "\n",
       "Therefore the partition of SST:\n",
       "1. SSR:\n",
       "\\begin{equation}\n",
       "    SS_{R}= \\sum^{n}_{i=1} (\\hat{y}_{i} - \\overline{y})^2 \n",
       "\\end{equation}\n",
       "\n",
       "with k degress of freedom\n",
       "\n",
       "2. SSE:\n",
       "\\begin{equation}\n",
       "    SS_{E}= \\sum^{n}_{i=1} (y_{i} - \\hat{y}_{i})^2 \n",
       "\\end{equation}\n",
       "\n",
       "with n-(k+1) degress of freedom\n",
       "or n-p d.o.f\n"
      ]
     },
     "metadata": {},
     "output_type": "display_data"
    }
   ],
   "source": [
    "display_markdown('''\n",
    "We than partition the SST into two parts\n",
    "1. Variablity due to Model\n",
    "2. Variability due to random error\n",
    "\n",
    "For the regression to be \"significant\", we would expect most of the variability\n",
    "to be \"explained\" by model\n",
    "\n",
    "SST:\n",
    "\\\\begin{equation}\n",
    "    SS_{T}= SS_{R} + SS_{E}\n",
    "\\\\end{equation}\n",
    "\n",
    "\n",
    "Therefore the partition of SST:\n",
    "1. SSR:\n",
    "\\\\begin{equation}\n",
    "    SS_{R}= \\sum^{n}_{i=1} (\\hat{y}_{i} - \\overline{y})^2 \n",
    "\\\\end{equation}\n",
    "\n",
    "with k degress of freedom\n",
    "\n",
    "2. SSE:\n",
    "\\\\begin{equation}\n",
    "    SS_{E}= \\sum^{n}_{i=1} (y_{i} - \\hat{y}_{i})^2 \n",
    "\\\\end{equation}\n",
    "\n",
    "with n-(k+1) degress of freedom\n",
    "or n-p d.o.f\n",
    "''', raw=True)"
   ]
  },
  {
   "cell_type": "code",
   "execution_count": 35,
   "id": "9bf07314",
   "metadata": {},
   "outputs": [
    {
     "data": {
      "text/markdown": [
       "\n",
       "We already know SSE, we need to either calculate any one of SS\n",
       "\n",
       "We can also calculate SST By Using Sample Variance\n",
       "\\begin{equation}\n",
       "    S^{2}= \\frac{\\sum^{n}_{i=1} (y_{i} - \\hat{y})^2}{n-1}\n",
       "\\end{equation}\n",
       "\n",
       "Therefore:\n",
       "\\begin{equation}\n",
       "    SS_{T}= S^{2}.(n-1)\n",
       "\\end{equation}\n"
      ]
     },
     "metadata": {},
     "output_type": "display_data"
    }
   ],
   "source": [
    "display_markdown('''\n",
    "We already know SSE, we need to either calculate any one of SS\n",
    "\n",
    "We can also calculate SST By Using Sample Variance\n",
    "\\\\begin{equation}\n",
    "    S^{2}= \\\\frac{\\sum^{n}_{i=1} (y_{i} - \\hat{y})^2}{n-1}\n",
    "\\\\end{equation}\n",
    "\n",
    "Therefore:\n",
    "\\\\begin{equation}\n",
    "    SS_{T}= S^{2}.(n-1)\n",
    "\\\\end{equation}\n",
    "''', raw=True)"
   ]
  },
  {
   "cell_type": "code",
   "execution_count": 36,
   "id": "2999e4ae",
   "metadata": {},
   "outputs": [
    {
     "data": {
      "text/plain": [
       "tensor(10778.2402, device='cuda:0')"
      ]
     },
     "execution_count": 36,
     "metadata": {},
     "output_type": "execute_result"
    }
   ],
   "source": [
    "ann._SST"
   ]
  },
  {
   "cell_type": "code",
   "execution_count": 37,
   "id": "a9f5e827",
   "metadata": {},
   "outputs": [
    {
     "data": {
      "text/markdown": [
       "\n",
       "Now we can do the Hypothesis Test on Individual Regression Coefficients\n",
       "\n",
       "We can build our hypothesis as:\n",
       "\\begin{equation}\n",
       "    H_{0}:𝜷_{j}=𝜷_{j0} \\\\\n",
       "    H_{1}:𝜷_{j}\\neq 𝜷_{j0}\n",
       "\\end{equation}\n",
       "𝜷j0 is typically 0\n",
       "\n",
       "So Our test statistic becomes the following:\n",
       "\\begin{equation}\n",
       "    T_{0}=\\frac{\\hat{𝜷}_{j} - 𝜷_{j0}}{\\sqrt{\\hat{\\sigma}^{2}C_{jj}}}\n",
       "\\end{equation}\n",
       "\n",
       "and if beta coefficient is equal to 0 then the equation becomes:\n",
       "\\begin{equation}\n",
       "    T_{0}=\\frac{\\hat{𝜷}_{j}}{se(\\hat{𝜷}_{j})}\n",
       "\\end{equation}\n",
       "\n"
      ]
     },
     "metadata": {},
     "output_type": "display_data"
    }
   ],
   "source": [
    "display_markdown('''\n",
    "Now we can do the Hypothesis Test on Individual Regression Coefficients\n",
    "\n",
    "We can build our hypothesis as:\n",
    "\\\\begin{equation}\n",
    "    H_{0}:𝜷_{j}=𝜷_{j0} \\\\\\\\\n",
    "    H_{1}:𝜷_{j}\\\\neq 𝜷_{j0}\n",
    "\\\\end{equation}\n",
    "𝜷j0 is typically 0\n",
    "\n",
    "So Our test statistic becomes the following:\n",
    "\\\\begin{equation}\n",
    "    T_{0}=\\\\frac{\\hat{𝜷}_{j} - 𝜷_{j0}}{\\sqrt{\\hat{\\sigma}^{2}C_{jj}}}\n",
    "\\\\end{equation}\n",
    "\n",
    "and if beta coefficient is equal to 0 then the equation becomes:\n",
    "\\\\begin{equation}\n",
    "    T_{0}=\\\\frac{\\hat{𝜷}_{j}}{se(\\hat{𝜷}_{j})}\n",
    "\\\\end{equation}\n",
    "\n",
    "''', raw=True)"
   ]
  },
  {
   "cell_type": "code",
   "execution_count": 38,
   "id": "e53629b1",
   "metadata": {},
   "outputs": [
    {
     "data": {
      "text/markdown": [
       "\n",
       "Now we can calculate our test statistic, and since it is a two-tailed test\n",
       "we can compare the absolute value of that to t alpha over two with n minus p degree of freedom\n",
       "if that is true we can accept the alternative hypothesis\n",
       "\n",
       "\\begin{equation}\n",
       "? \\\\\n",
       "   |t_{0}| > t_{\\alpha / 2, n-p}\n",
       "\\end{equation}\n",
       "\n"
      ]
     },
     "metadata": {},
     "output_type": "display_data"
    }
   ],
   "source": [
    "display_markdown('''\n",
    "Now we can calculate our test statistic, and since it is a two-tailed test\n",
    "we can compare the absolute value of that to t alpha over two with n minus p degree of freedom\n",
    "if that is true we can accept the alternative hypothesis\n",
    "\n",
    "\\\\begin{equation}\n",
    "? \\\\\\\\\n",
    "   |t_{0}| > t_{\\\\alpha / 2, n-p}\n",
    "\\\\end{equation}\n",
    "\n",
    "''', raw=True)"
   ]
  },
  {
   "cell_type": "code",
   "execution_count": 39,
   "id": "b8d1309c",
   "metadata": {},
   "outputs": [
    {
     "data": {
      "text/plain": [
       "tensor([23.8045, -8.0755, -4.3245,  0.1379,  1.2051], device='cuda:0')"
      ]
     },
     "execution_count": 39,
     "metadata": {},
     "output_type": "execute_result"
    }
   ],
   "source": [
    "ann._tStats"
   ]
  },
  {
   "cell_type": "code",
   "execution_count": 40,
   "id": "79111930",
   "metadata": {},
   "outputs": [
    {
     "data": {
      "text/plain": [
       "array([3.79577139e-16, 1.00781101e-07, 3.29480164e-04, 8.91670157e-01,\n",
       "       2.42240735e-01])"
      ]
     },
     "execution_count": 40,
     "metadata": {},
     "output_type": "execute_result"
    }
   ],
   "source": [
    "ann._pValue"
   ]
  },
  {
   "cell_type": "code",
   "execution_count": 41,
   "id": "8eaa5a7d",
   "metadata": {},
   "outputs": [
    {
     "data": {
      "text/plain": [
       "array(['HCoordinates', 'Age', 'Severity'], dtype='<U12')"
      ]
     },
     "execution_count": 41,
     "metadata": {},
     "output_type": "execute_result"
    }
   ],
   "source": [
    "ann._Significant_Regression_Variable"
   ]
  },
  {
   "cell_type": "code",
   "execution_count": 42,
   "id": "7f194934",
   "metadata": {},
   "outputs": [
    {
     "data": {
      "text/plain": [
       "array(['Surg-Med', 'Anxiety'], dtype='<U12')"
      ]
     },
     "execution_count": 42,
     "metadata": {},
     "output_type": "execute_result"
    }
   ],
   "source": [
    "ann._InSignificant_Regression_Variable"
   ]
  },
  {
   "cell_type": "code",
   "execution_count": 43,
   "id": "f50dd111",
   "metadata": {},
   "outputs": [
    {
     "data": {
      "text/markdown": [
       "\n",
       "Now we need to calculate the confidence intervals in multiple linear regression\n",
       "\n",
       "1. Confidence intervals on regression coefficient (aka least squares estimators)\n",
       "\n",
       "2. Confidence interval on mean response\n",
       "\n",
       "3. Prediction interval on a future observation\n",
       "\n"
      ]
     },
     "metadata": {},
     "output_type": "display_data"
    }
   ],
   "source": [
    "display_markdown('''\n",
    "Now we need to calculate the confidence intervals in multiple linear regression\n",
    "\n",
    "1. Confidence intervals on regression coefficient (aka least squares estimators)\n",
    "\n",
    "2. Confidence interval on mean response\n",
    "\n",
    "3. Prediction interval on a future observation\n",
    "\n",
    "''', raw=True)"
   ]
  },
  {
   "cell_type": "code",
   "execution_count": 44,
   "id": "e0725f2b",
   "metadata": {},
   "outputs": [
    {
     "data": {
      "text/markdown": [
       "\n",
       "1. To compute confidence intervals for model parameters we use below formula:\n",
       "\n",
       "Confidence Interval on slope and intercept\n",
       "\n",
       "\\begin{equation}\n",
       "   \\hat{𝜷}_{j} - t_{\\alpha / 2, n-p} . se(\\hat{𝜷}_{j}) \\leq 𝜷_{j} \\leq \\hat{𝜷}_{j} + t_{\\alpha / 2, n-p} . se(\\hat{𝜷}_{j})\n",
       "\\end{equation}\n",
       "\n",
       "The Confidence interval is centered around the least squares estimate **B hat J**\n",
       "\n"
      ]
     },
     "metadata": {},
     "output_type": "display_data"
    }
   ],
   "source": [
    "display_markdown('''\n",
    "1. To compute confidence intervals for model parameters we use below formula:\n",
    "\n",
    "Confidence Interval on slope and intercept\n",
    "\n",
    "\\\\begin{equation}\n",
    "   \\hat{𝜷}_{j} - t_{\\\\alpha / 2, n-p} . se(\\hat{𝜷}_{j}) \\leq 𝜷_{j} \\leq \\hat{𝜷}_{j} + t_{\\\\alpha / 2, n-p} . se(\\hat{𝜷}_{j})\n",
    "\\\\end{equation}\n",
    "\n",
    "The Confidence interval is centered around the least squares estimate **B hat J**\n",
    "\n",
    "''', raw=True)"
   ]
  },
  {
   "cell_type": "code",
   "execution_count": 45,
   "id": "599c0dac",
   "metadata": {},
   "outputs": [
    {
     "data": {
      "text/plain": [
       "tensor([131.2605,  -1.4058,  -0.8690,  -5.8593,  -0.9549], device='cuda:0')"
      ]
     },
     "execution_count": 45,
     "metadata": {},
     "output_type": "execute_result"
    }
   ],
   "source": [
    "ann._Lower_Confidence_Interval"
   ]
  },
  {
   "cell_type": "code",
   "execution_count": 46,
   "id": "cce8a863",
   "metadata": {},
   "outputs": [
    {
     "data": {
      "text/plain": [
       "tensor([156.4744,  -0.8286,  -0.3034,   6.6890,   3.5677], device='cuda:0')"
      ]
     },
     "execution_count": 46,
     "metadata": {},
     "output_type": "execute_result"
    }
   ],
   "source": [
    "ann._Upper_Confidence_Interval"
   ]
  },
  {
   "cell_type": "markdown",
   "id": "5ae48b63",
   "metadata": {},
   "source": [
    "after we calculate the confidennce interval, we need to check if the interval contain 0  \n",
    "And from the above calculation we see that **Surg-Med** and **Anxiety** contain 0 in Confidence interval  \n",
    "Also, form p value those two are insignificant  \n",
    "So, we can conclude that adding those two parameter has no impact on our model"
   ]
  },
  {
   "cell_type": "code",
   "execution_count": 47,
   "id": "154d82b7",
   "metadata": {},
   "outputs": [
    {
     "data": {
      "text/markdown": [
       "\n",
       "We can use the confidence interval for hypothesis testing\n",
       "\n",
       "\\begin{equation}\n",
       "   H_{0}: 𝜷_{j} = 0 \\\\\n",
       "   H_{1}: 𝜷_{j} \\neq 0\n",
       "\\end{equation}\n",
       "\n",
       "if the confidence interval contains zero, then **H knot** cannot be rejected; \n",
       "otherwise, **H one** is supported.\n",
       "\n"
      ]
     },
     "metadata": {},
     "output_type": "display_data"
    }
   ],
   "source": [
    "display_markdown('''\n",
    "We can use the confidence interval for hypothesis testing\n",
    "\n",
    "\\\\begin{equation}\n",
    "   H_{0}: 𝜷_{j} = 0 \\\\\\\\\n",
    "   H_{1}: 𝜷_{j} \\\\neq 0\n",
    "\\\\end{equation}\n",
    "\n",
    "if the confidence interval contains zero, then **H knot** cannot be rejected; \n",
    "otherwise, **H one** is supported.\n",
    "\n",
    "''', raw=True)"
   ]
  },
  {
   "cell_type": "code",
   "execution_count": 48,
   "id": "cbc49046",
   "metadata": {},
   "outputs": [
    {
     "data": {
      "text/markdown": [
       "\n",
       "2. Confidence Interval on the Mean Response\n",
       "\n",
       "Confidence interval formula\n",
       "\n",
       "\\begin{equation}\n",
       "    \\hat{𝜇}_{𝑌|𝑥_0}−𝑡_{𝛼∕2,𝑛−𝑝} \\sqrt{𝜎 ̂^2 𝒙_𝟎′(𝑿^′ 𝑿)^{−1} 𝒙_𝟎} ≤𝜇_{𝑌|𝑥_0}≤\\hat{𝜇}_{𝑌|𝑥_0}+𝑡_{𝛼∕2,𝑛−𝑝} \\sqrt{𝜎 ̂^2 𝒙_𝟎′(𝑿^′ 𝑿)^{−1} 𝒙_𝟎}\n",
       "\\end{equation}\n",
       "\n",
       "It means\n",
       "At a particular combination of inputs X, denote by x0 and its a vector, the CI on the mean response\n",
       "gives us an idea of where that mean might lie at 95% confidence interval.\n",
       "\n",
       "The above formula is centered about the mean response ie:\n",
       "So, we can evaluates the model at point 0\n",
       "\\begin{equation}\n",
       "    \\hat{𝜇}_{𝑌|𝑥_0} = 𝒙_𝟎′\\hat{𝜷}\n",
       "\\end{equation}\n",
       "\n",
       "the interval width changes with X0, is minimum at:\n",
       "\\begin{equation}\n",
       "x_{0} = \\overline{x}\n",
       "\\end{equation}\n",
       "\n"
      ]
     },
     "metadata": {},
     "output_type": "display_data"
    }
   ],
   "source": [
    "display_markdown('''\n",
    "2. Confidence Interval on the Mean Response\n",
    "\n",
    "Confidence interval formula\n",
    "\n",
    "\\\\begin{equation}\n",
    "    \\hat{𝜇}_{𝑌|𝑥_0}−𝑡_{𝛼∕2,𝑛−𝑝} \\sqrt{𝜎 ̂^2 𝒙_𝟎′(𝑿^′ 𝑿)^{−1} 𝒙_𝟎} ≤𝜇_{𝑌|𝑥_0}≤\\hat{𝜇}_{𝑌|𝑥_0}+𝑡_{𝛼∕2,𝑛−𝑝} \\sqrt{𝜎 ̂^2 𝒙_𝟎′(𝑿^′ 𝑿)^{−1} 𝒙_𝟎}\n",
    "\\\\end{equation}\n",
    "\n",
    "It means\n",
    "At a particular combination of inputs X, denote by x0 and its a vector, the CI on the mean response\n",
    "gives us an idea of where that mean might lie at 95% confidence interval.\n",
    "\n",
    "The above formula is centered about the mean response ie:\n",
    "So, we can evaluates the model at point 0\n",
    "\\\\begin{equation}\n",
    "    \\hat{𝜇}_{𝑌|𝑥_0} = 𝒙_𝟎′\\hat{𝜷}\n",
    "\\\\end{equation}\n",
    "\n",
    "the interval width changes with X0, is minimum at:\n",
    "\\\\begin{equation}\n",
    "x_{0} = \\overline{x}\n",
    "\\\\end{equation}\n",
    "\n",
    "''', raw=True)"
   ]
  },
  {
   "cell_type": "code",
   "execution_count": 49,
   "id": "46515879",
   "metadata": {},
   "outputs": [],
   "source": [
    "ann.Mean_Response_CI([45,35,0,2])"
   ]
  },
  {
   "cell_type": "code",
   "execution_count": 50,
   "id": "443b8e9c",
   "metadata": {},
   "outputs": [
    {
     "data": {
      "text/plain": [
       "tensor([[69.7522]], device='cuda:0')"
      ]
     },
     "execution_count": 50,
     "metadata": {},
     "output_type": "execute_result"
    }
   ],
   "source": [
    "ann._Lower_Mean_Confidence"
   ]
  },
  {
   "cell_type": "code",
   "execution_count": 51,
   "id": "1f31f6d2",
   "metadata": {},
   "outputs": [
    {
     "data": {
      "text/plain": [
       "tensor([[81.6268]], device='cuda:0')"
      ]
     },
     "execution_count": 51,
     "metadata": {},
     "output_type": "execute_result"
    }
   ],
   "source": [
    "ann._Upper_Mean_Confidence"
   ]
  },
  {
   "cell_type": "code",
   "execution_count": 52,
   "id": "de82ed29",
   "metadata": {},
   "outputs": [
    {
     "data": {
      "text/markdown": [
       "\n",
       "3. Prediction Interval on a Future Observation (Y0)\n",
       "\n",
       "Below is the half interval formula\n",
       "\n",
       "\\begin{equation}\n",
       "    \\hat{𝑦}_{0}±𝑡_{𝛼∕2,𝑛−𝑝} \\sqrt{𝜎 ̂^2 (𝟏+𝒙_𝟎′(𝑿^′𝑿)^{−1} 𝒙_{𝟎} ) }\n",
       "\\end{equation}\n",
       "\n",
       "The above equation is same as the other confidence interval, we have only added\n",
       "**1** as a extra term is due to the uncertainty of the new measurement \n",
       "\n",
       "So, we can evaluates the model at point 0 and calculate y not hat as below:\n",
       "\\begin{equation}\n",
       "    \\hat{𝑦}_{0} = 𝒙_𝟎′\\hat{𝜷}\n",
       "\\end{equation}\n",
       "\n"
      ]
     },
     "metadata": {},
     "output_type": "display_data"
    }
   ],
   "source": [
    "display_markdown('''\n",
    "3. Prediction Interval on a Future Observation (Y0)\n",
    "\n",
    "Below is the half interval formula\n",
    "\n",
    "\\\\begin{equation}\n",
    "    \\hat{𝑦}_{0}±𝑡_{𝛼∕2,𝑛−𝑝} \\sqrt{𝜎 ̂^2 (𝟏+𝒙_𝟎′(𝑿^′𝑿)^{−1} 𝒙_{𝟎} ) }\n",
    "\\\\end{equation}\n",
    "\n",
    "The above equation is same as the other confidence interval, we have only added\n",
    "**1** as a extra term is due to the uncertainty of the new measurement \n",
    "\n",
    "So, we can evaluates the model at point 0 and calculate y not hat as below:\n",
    "\\\\begin{equation}\n",
    "    \\hat{𝑦}_{0} = 𝒙_𝟎′\\hat{𝜷}\n",
    "\\\\end{equation}\n",
    "\n",
    "''', raw=True)"
   ]
  },
  {
   "cell_type": "code",
   "execution_count": 72,
   "id": "2d3f25dc",
   "metadata": {},
   "outputs": [],
   "source": [
    "ann.Prediction_On_Future_OBS([60,75,1,5])"
   ]
  },
  {
   "cell_type": "code",
   "execution_count": 73,
   "id": "108464b5",
   "metadata": {},
   "outputs": [
    {
     "data": {
      "text/plain": [
       "tensor([[39.8173]], device='cuda:0')"
      ]
     },
     "execution_count": 73,
     "metadata": {},
     "output_type": "execute_result"
    }
   ],
   "source": [
    "ann._Mean_Response_On_Future_Y"
   ]
  },
  {
   "cell_type": "code",
   "execution_count": 74,
   "id": "78c17655",
   "metadata": {},
   "outputs": [
    {
     "data": {
      "text/plain": [
       "tensor([[22.7968]], device='cuda:0')"
      ]
     },
     "execution_count": 74,
     "metadata": {},
     "output_type": "execute_result"
    }
   ],
   "source": [
    "ann._Lower_Mean_Confidence_Future"
   ]
  },
  {
   "cell_type": "code",
   "execution_count": 75,
   "id": "ab3bed81",
   "metadata": {},
   "outputs": [
    {
     "data": {
      "text/plain": [
       "tensor([[56.8379]], device='cuda:0')"
      ]
     },
     "execution_count": 75,
     "metadata": {},
     "output_type": "execute_result"
    }
   ],
   "source": [
    "ann._Upper_Mean_Confidence_Future"
   ]
  },
  {
   "cell_type": "code",
   "execution_count": null,
   "id": "27c61189",
   "metadata": {},
   "outputs": [],
   "source": []
  },
  {
   "cell_type": "code",
   "execution_count": null,
   "id": "07e6f544",
   "metadata": {},
   "outputs": [],
   "source": []
  },
  {
   "cell_type": "code",
   "execution_count": null,
   "id": "f467f82d",
   "metadata": {},
   "outputs": [],
   "source": []
  },
  {
   "cell_type": "code",
   "execution_count": null,
   "id": "18d52206",
   "metadata": {},
   "outputs": [],
   "source": []
  },
  {
   "cell_type": "code",
   "execution_count": null,
   "id": "b8ba5d33",
   "metadata": {},
   "outputs": [],
   "source": []
  },
  {
   "cell_type": "code",
   "execution_count": null,
   "id": "b89576da",
   "metadata": {},
   "outputs": [],
   "source": []
  },
  {
   "cell_type": "code",
   "execution_count": null,
   "id": "67af58aa",
   "metadata": {},
   "outputs": [],
   "source": []
  },
  {
   "cell_type": "code",
   "execution_count": null,
   "id": "f5d08fc0",
   "metadata": {},
   "outputs": [],
   "source": []
  },
  {
   "cell_type": "code",
   "execution_count": null,
   "id": "a7396ebd",
   "metadata": {},
   "outputs": [],
   "source": []
  },
  {
   "cell_type": "code",
   "execution_count": null,
   "id": "8127b57c",
   "metadata": {},
   "outputs": [],
   "source": []
  },
  {
   "cell_type": "markdown",
   "id": "b5b4e908",
   "metadata": {},
   "source": []
  },
  {
   "cell_type": "code",
   "execution_count": 79,
   "id": "c3049081",
   "metadata": {},
   "outputs": [
    {
     "name": "stdout",
     "output_type": "stream",
     "text": [
      "SS_{E}= \\sum^{n}_{i=1} (y_{i} - \\hat{y}_{i})^2\n"
     ]
    }
   ],
   "source": []
  },
  {
   "cell_type": "code",
   "execution_count": null,
   "id": "ed397022",
   "metadata": {},
   "outputs": [],
   "source": []
  }
 ],
 "metadata": {
  "kernelspec": {
   "display_name": "Python 3 (ipykernel)",
   "language": "python",
   "name": "python3"
  },
  "language_info": {
   "codemirror_mode": {
    "name": "ipython",
    "version": 3
   },
   "file_extension": ".py",
   "mimetype": "text/x-python",
   "name": "python",
   "nbconvert_exporter": "python",
   "pygments_lexer": "ipython3",
   "version": "3.8.13"
  }
 },
 "nbformat": 4,
 "nbformat_minor": 5
}
