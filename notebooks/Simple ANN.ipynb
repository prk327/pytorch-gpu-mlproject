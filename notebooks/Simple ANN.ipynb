{
 "cells": [
  {
   "cell_type": "markdown",
   "id": "e72803f0",
   "metadata": {},
   "source": [
    "#### Building a simple neural network from scratch"
   ]
  },
  {
   "cell_type": "markdown",
   "id": "96ada42e",
   "metadata": {},
   "source": [
    "#### The architecture of Artificial Neural Networks draws inspiration from the human brain"
   ]
  },
  {
   "cell_type": "code",
   "execution_count": 1,
   "id": "af697ca0",
   "metadata": {},
   "outputs": [],
   "source": [
    "# Important libraries to import\n",
    "import pandas as pd"
   ]
  },
  {
   "cell_type": "code",
   "execution_count": 2,
   "id": "a0282fd0",
   "metadata": {},
   "outputs": [],
   "source": [
    "# Load the data in to pandas\n",
    "\n",
    "TestData = pd.read_csv(\"data/SatisfactoryData/Satisfaction_Data.csv\")"
   ]
  },
  {
   "cell_type": "code",
   "execution_count": 3,
   "id": "56059d01",
   "metadata": {},
   "outputs": [
    {
     "data": {
      "text/html": [
       "<div>\n",
       "<style scoped>\n",
       "    .dataframe tbody tr th:only-of-type {\n",
       "        vertical-align: middle;\n",
       "    }\n",
       "\n",
       "    .dataframe tbody tr th {\n",
       "        vertical-align: top;\n",
       "    }\n",
       "\n",
       "    .dataframe thead th {\n",
       "        text-align: right;\n",
       "    }\n",
       "</style>\n",
       "<table border=\"1\" class=\"dataframe\">\n",
       "  <thead>\n",
       "    <tr style=\"text-align: right;\">\n",
       "      <th></th>\n",
       "      <th>Age</th>\n",
       "      <th>Severity</th>\n",
       "      <th>Surg-Med</th>\n",
       "      <th>Anxiety</th>\n",
       "      <th>Satisfaction</th>\n",
       "    </tr>\n",
       "  </thead>\n",
       "  <tbody>\n",
       "    <tr>\n",
       "      <th>0</th>\n",
       "      <td>55</td>\n",
       "      <td>50</td>\n",
       "      <td>0</td>\n",
       "      <td>2.1</td>\n",
       "      <td>68</td>\n",
       "    </tr>\n",
       "    <tr>\n",
       "      <th>1</th>\n",
       "      <td>46</td>\n",
       "      <td>24</td>\n",
       "      <td>1</td>\n",
       "      <td>2.8</td>\n",
       "      <td>77</td>\n",
       "    </tr>\n",
       "    <tr>\n",
       "      <th>2</th>\n",
       "      <td>30</td>\n",
       "      <td>46</td>\n",
       "      <td>1</td>\n",
       "      <td>3.3</td>\n",
       "      <td>96</td>\n",
       "    </tr>\n",
       "    <tr>\n",
       "      <th>3</th>\n",
       "      <td>35</td>\n",
       "      <td>48</td>\n",
       "      <td>1</td>\n",
       "      <td>4.5</td>\n",
       "      <td>80</td>\n",
       "    </tr>\n",
       "    <tr>\n",
       "      <th>4</th>\n",
       "      <td>59</td>\n",
       "      <td>58</td>\n",
       "      <td>0</td>\n",
       "      <td>2.0</td>\n",
       "      <td>43</td>\n",
       "    </tr>\n",
       "    <tr>\n",
       "      <th>5</th>\n",
       "      <td>61</td>\n",
       "      <td>60</td>\n",
       "      <td>0</td>\n",
       "      <td>5.1</td>\n",
       "      <td>44</td>\n",
       "    </tr>\n",
       "    <tr>\n",
       "      <th>6</th>\n",
       "      <td>74</td>\n",
       "      <td>65</td>\n",
       "      <td>1</td>\n",
       "      <td>5.5</td>\n",
       "      <td>26</td>\n",
       "    </tr>\n",
       "    <tr>\n",
       "      <th>7</th>\n",
       "      <td>38</td>\n",
       "      <td>42</td>\n",
       "      <td>1</td>\n",
       "      <td>3.2</td>\n",
       "      <td>88</td>\n",
       "    </tr>\n",
       "    <tr>\n",
       "      <th>8</th>\n",
       "      <td>27</td>\n",
       "      <td>42</td>\n",
       "      <td>0</td>\n",
       "      <td>3.1</td>\n",
       "      <td>75</td>\n",
       "    </tr>\n",
       "    <tr>\n",
       "      <th>9</th>\n",
       "      <td>51</td>\n",
       "      <td>50</td>\n",
       "      <td>1</td>\n",
       "      <td>2.4</td>\n",
       "      <td>57</td>\n",
       "    </tr>\n",
       "    <tr>\n",
       "      <th>10</th>\n",
       "      <td>53</td>\n",
       "      <td>38</td>\n",
       "      <td>1</td>\n",
       "      <td>2.2</td>\n",
       "      <td>56</td>\n",
       "    </tr>\n",
       "    <tr>\n",
       "      <th>11</th>\n",
       "      <td>41</td>\n",
       "      <td>30</td>\n",
       "      <td>0</td>\n",
       "      <td>2.1</td>\n",
       "      <td>88</td>\n",
       "    </tr>\n",
       "    <tr>\n",
       "      <th>12</th>\n",
       "      <td>37</td>\n",
       "      <td>31</td>\n",
       "      <td>0</td>\n",
       "      <td>1.9</td>\n",
       "      <td>88</td>\n",
       "    </tr>\n",
       "    <tr>\n",
       "      <th>13</th>\n",
       "      <td>24</td>\n",
       "      <td>34</td>\n",
       "      <td>0</td>\n",
       "      <td>3.1</td>\n",
       "      <td>102</td>\n",
       "    </tr>\n",
       "    <tr>\n",
       "      <th>14</th>\n",
       "      <td>42</td>\n",
       "      <td>30</td>\n",
       "      <td>0</td>\n",
       "      <td>3.0</td>\n",
       "      <td>88</td>\n",
       "    </tr>\n",
       "    <tr>\n",
       "      <th>15</th>\n",
       "      <td>50</td>\n",
       "      <td>48</td>\n",
       "      <td>1</td>\n",
       "      <td>4.2</td>\n",
       "      <td>70</td>\n",
       "    </tr>\n",
       "    <tr>\n",
       "      <th>16</th>\n",
       "      <td>58</td>\n",
       "      <td>61</td>\n",
       "      <td>1</td>\n",
       "      <td>4.6</td>\n",
       "      <td>52</td>\n",
       "    </tr>\n",
       "    <tr>\n",
       "      <th>17</th>\n",
       "      <td>60</td>\n",
       "      <td>71</td>\n",
       "      <td>1</td>\n",
       "      <td>5.3</td>\n",
       "      <td>43</td>\n",
       "    </tr>\n",
       "    <tr>\n",
       "      <th>18</th>\n",
       "      <td>62</td>\n",
       "      <td>62</td>\n",
       "      <td>0</td>\n",
       "      <td>7.2</td>\n",
       "      <td>46</td>\n",
       "    </tr>\n",
       "    <tr>\n",
       "      <th>19</th>\n",
       "      <td>68</td>\n",
       "      <td>38</td>\n",
       "      <td>0</td>\n",
       "      <td>7.8</td>\n",
       "      <td>56</td>\n",
       "    </tr>\n",
       "    <tr>\n",
       "      <th>20</th>\n",
       "      <td>70</td>\n",
       "      <td>41</td>\n",
       "      <td>1</td>\n",
       "      <td>7.0</td>\n",
       "      <td>59</td>\n",
       "    </tr>\n",
       "    <tr>\n",
       "      <th>21</th>\n",
       "      <td>79</td>\n",
       "      <td>66</td>\n",
       "      <td>1</td>\n",
       "      <td>6.2</td>\n",
       "      <td>26</td>\n",
       "    </tr>\n",
       "    <tr>\n",
       "      <th>22</th>\n",
       "      <td>63</td>\n",
       "      <td>31</td>\n",
       "      <td>1</td>\n",
       "      <td>4.1</td>\n",
       "      <td>52</td>\n",
       "    </tr>\n",
       "    <tr>\n",
       "      <th>23</th>\n",
       "      <td>39</td>\n",
       "      <td>42</td>\n",
       "      <td>0</td>\n",
       "      <td>3.5</td>\n",
       "      <td>83</td>\n",
       "    </tr>\n",
       "    <tr>\n",
       "      <th>24</th>\n",
       "      <td>49</td>\n",
       "      <td>40</td>\n",
       "      <td>1</td>\n",
       "      <td>2.1</td>\n",
       "      <td>75</td>\n",
       "    </tr>\n",
       "  </tbody>\n",
       "</table>\n",
       "</div>"
      ],
      "text/plain": [
       "    Age  Severity  Surg-Med  Anxiety  Satisfaction\n",
       "0    55        50         0      2.1            68\n",
       "1    46        24         1      2.8            77\n",
       "2    30        46         1      3.3            96\n",
       "3    35        48         1      4.5            80\n",
       "4    59        58         0      2.0            43\n",
       "5    61        60         0      5.1            44\n",
       "6    74        65         1      5.5            26\n",
       "7    38        42         1      3.2            88\n",
       "8    27        42         0      3.1            75\n",
       "9    51        50         1      2.4            57\n",
       "10   53        38         1      2.2            56\n",
       "11   41        30         0      2.1            88\n",
       "12   37        31         0      1.9            88\n",
       "13   24        34         0      3.1           102\n",
       "14   42        30         0      3.0            88\n",
       "15   50        48         1      4.2            70\n",
       "16   58        61         1      4.6            52\n",
       "17   60        71         1      5.3            43\n",
       "18   62        62         0      7.2            46\n",
       "19   68        38         0      7.8            56\n",
       "20   70        41         1      7.0            59\n",
       "21   79        66         1      6.2            26\n",
       "22   63        31         1      4.1            52\n",
       "23   39        42         0      3.5            83\n",
       "24   49        40         1      2.1            75"
      ]
     },
     "execution_count": 3,
     "metadata": {},
     "output_type": "execute_result"
    }
   ],
   "source": [
    "TestData"
   ]
  },
  {
   "cell_type": "code",
   "execution_count": 4,
   "id": "cacd36c3",
   "metadata": {},
   "outputs": [
    {
     "data": {
      "text/markdown": [
       "\n",
       "<h6>Below is the equation of Multiple Linear Regression Model for the above data sets:</h6><br>\n",
       "\\begin{equation}\n",
       "𝑌=𝛽_0+𝛽_1 𝑥_1+𝛽_2 𝑥_2+𝛽_3 𝑥_3+𝛽_4 𝑥_4+𝜖\n",
       "\\end{equation}\n"
      ]
     },
     "metadata": {},
     "output_type": "display_data"
    }
   ],
   "source": [
    "# Let first solve the equation using Simple Linear Regression\n",
    "display_markdown('''\n",
    "<h6>Below is the equation of Multiple Linear Regression Model for the above data sets:</h6><br>\n",
    "\\\\begin{equation}\n",
    "𝑌=𝛽_0+𝛽_1 𝑥_1+𝛽_2 𝑥_2+𝛽_3 𝑥_3+𝛽_4 𝑥_4+𝜖\n",
    "\\\\end{equation}\n",
    "''', raw=True)"
   ]
  },
  {
   "cell_type": "code",
   "execution_count": 5,
   "id": "425f53ba",
   "metadata": {},
   "outputs": [
    {
     "data": {
      "text/markdown": [
       "\n",
       "The above equation is generally represended as:\n",
       "\\begin{equation}\n",
       "𝑌=𝛽_0+𝛽_1 𝑥_1+𝛽_2 𝑥_2+...+𝛽_k 𝑥_k+𝜖\n",
       "\\end{equation}\n",
       "Where:\n",
       "\n",
       "k = number of regressor variable\n",
       "\n",
       "p = number of parameters in the models\n",
       "\n",
       "p = k + 1\n"
      ]
     },
     "metadata": {},
     "output_type": "display_data"
    }
   ],
   "source": [
    "# Let first solve the equation using Simple Linear Regression\n",
    "display_markdown('''\n",
    "The above equation is generally represended as:\n",
    "\\\\begin{equation}\n",
    "𝑌=𝛽_0+𝛽_1 𝑥_1+𝛽_2 𝑥_2+...+𝛽_k 𝑥_k+𝜖\n",
    "\\\\end{equation}\n",
    "Where:\n",
    "\n",
    "k = number of regressor variable\n",
    "\n",
    "p = number of parameters in the models\n",
    "\n",
    "p = k + 1\n",
    "''', raw=True)"
   ]
  },
  {
   "cell_type": "code",
   "execution_count": 6,
   "id": "10f1f05a",
   "metadata": {},
   "outputs": [
    {
     "data": {
      "text/markdown": [
       "\n",
       "The above equation can also be written in Matrix form:\n",
       "\\begin{equation}\n",
       "y=X𝛽+𝜖\n",
       "\\end{equation}\n",
       "Where:\n",
       "\\begin{equation}\n",
       "(observations) y = \n",
       "            \\begin{bmatrix}\n",
       "            y_{1} \\\\\n",
       "            y_{2} \\\\\n",
       "             . \\\\\n",
       "            . \\\\\n",
       "            . \\\\\n",
       "            y_{n}\n",
       "            \\end{bmatrix}\n",
       "\\end{equation}\n"
      ]
     },
     "metadata": {},
     "output_type": "display_data"
    }
   ],
   "source": [
    "# Let first solve the equation using Simple Linear Regression\n",
    "display_markdown('''\n",
    "The above equation can also be written in Matrix form:\n",
    "\\\\begin{equation}\n",
    "y=X𝛽+𝜖\n",
    "\\\\end{equation}\n",
    "Where:\n",
    "\\\\begin{equation}\n",
    "(observations) y = \n",
    "            \\\\begin{bmatrix}\n",
    "            y_{1} \\\\\\\\\n",
    "            y_{2} \\\\\\\\\n",
    "             . \\\\\\\\\n",
    "            . \\\\\\\\\n",
    "            . \\\\\\\\\n",
    "            y_{n}\n",
    "            \\\\end{bmatrix}\n",
    "\\\\end{equation}\n",
    "''', raw=True)"
   ]
  },
  {
   "cell_type": "code",
   "execution_count": 7,
   "id": "58d1a204",
   "metadata": {},
   "outputs": [
    {
     "data": {
      "text/markdown": [
       "\n",
       "The below is the model matrix:\n",
       "\\begin{equation}\n",
       "X=\\begin{bmatrix}\n",
       "        1 & x_{11} & x_{12} & ... & x_{1k} \\\\\n",
       "        1 & x_{21} & x_{22} & ... & x_{2k} \\\\\n",
       "        . & . & . & ... & . \\\\\n",
       "        . & . & . & ... & . \\\\\n",
       "        . & . & . & ... & . \\\\\n",
       "        1 & x_{n1} & x_{n2} & ... & x_{nk} \\\\\n",
       "    \\end{bmatrix}\n",
       "\\end{equation}\n"
      ]
     },
     "metadata": {},
     "output_type": "display_data"
    }
   ],
   "source": [
    "# Let first solve the equation using Simple Linear Regression\n",
    "display_markdown('''\n",
    "The below is the model matrix:\n",
    "\\\\begin{equation}\n",
    "X=\\\\begin{bmatrix}\n",
    "        1 & x_{11} & x_{12} & ... & x_{1k} \\\\\\\\\n",
    "        1 & x_{21} & x_{22} & ... & x_{2k} \\\\\\\\\n",
    "        . & . & . & ... & . \\\\\\\\\n",
    "        . & . & . & ... & . \\\\\\\\\n",
    "        . & . & . & ... & . \\\\\\\\\n",
    "        1 & x_{n1} & x_{n2} & ... & x_{nk} \\\\\\\\\n",
    "    \\\\end{bmatrix}\n",
    "\\\\end{equation}\n",
    "''', raw=True)"
   ]
  },
  {
   "cell_type": "code",
   "execution_count": 8,
   "id": "d939f062",
   "metadata": {},
   "outputs": [
    {
     "data": {
      "text/markdown": [
       "\n",
       "Notice that we have include 1 in our matrix model\n",
       "The one is just a homogeneous vector which represent the bias term\n",
       "\n",
       "model parameter vector \n",
       "\\begin{equation}\n",
       "𝛽=\\begin{bmatrix}\n",
       "            𝛽_{0} \\\\\n",
       "            𝛽_{1} \\\\\n",
       "             . \\\\\n",
       "            . \\\\\n",
       "            . \\\\\n",
       "            𝛽_{k}\n",
       "            \\end{bmatrix}\n",
       "\\end{equation}\n"
      ]
     },
     "metadata": {},
     "output_type": "display_data"
    }
   ],
   "source": [
    "# Let first solve the equation using Simple Linear Regression\n",
    "display_markdown('''\n",
    "Notice that we have include 1 in our matrix model\n",
    "The one is just a homogeneous vector which represent the bias term\n",
    "\n",
    "model parameter vector \n",
    "\\\\begin{equation}\n",
    "𝛽=\\\\begin{bmatrix}\n",
    "            𝛽_{0} \\\\\\\\\n",
    "            𝛽_{1} \\\\\\\\\n",
    "             . \\\\\\\\\n",
    "            . \\\\\\\\\n",
    "            . \\\\\\\\\n",
    "            𝛽_{k}\n",
    "            \\\\end{bmatrix}\n",
    "\\\\end{equation}\n",
    "''', raw=True)"
   ]
  },
  {
   "cell_type": "code",
   "execution_count": 9,
   "id": "440ad17e",
   "metadata": {},
   "outputs": [
    {
     "data": {
      "text/markdown": [
       "\n",
       "Similarly we have the error term which is represented as: \n",
       "\n",
       "random errors\n",
       "\\begin{equation}\n",
       "𝜖=\\begin{bmatrix}\n",
       "            𝜖_{1} \\\\\n",
       "            𝜖_{2} \\\\\n",
       "             . \\\\\n",
       "            . \\\\\n",
       "            . \\\\\n",
       "            𝜖_{n}\n",
       "            \\end{bmatrix}\n",
       "\\end{equation}\n",
       "\n",
       "where n = number of observations\n"
      ]
     },
     "metadata": {},
     "output_type": "display_data"
    }
   ],
   "source": [
    "display_markdown('''\n",
    "Similarly we have the error term which is represented as: \n",
    "\n",
    "random errors\n",
    "\\\\begin{equation}\n",
    "𝜖=\\\\begin{bmatrix}\n",
    "            𝜖_{1} \\\\\\\\\n",
    "            𝜖_{2} \\\\\\\\\n",
    "             . \\\\\\\\\n",
    "            . \\\\\\\\\n",
    "            . \\\\\\\\\n",
    "            𝜖_{n}\n",
    "            \\\\end{bmatrix}\n",
    "\\\\end{equation}\n",
    "\n",
    "where n = number of observations\n",
    "''', raw=True)"
   ]
  },
  {
   "cell_type": "code",
   "execution_count": 10,
   "id": "2c9d42ee",
   "metadata": {},
   "outputs": [
    {
     "data": {
      "text/markdown": [
       "\n",
       "To solve the equation, We will first calculate the Sum of Square L\n",
       "\n",
       "and then we will try to minimise L using Least Square Estimator \n",
       "\\begin{equation}\n",
       "\\hat{𝜷}\n",
       "\\end{equation}\n",
       "and it is the solution for 𝜷 in the below equation:\n",
       "\\begin{equation}\n",
       "\\frac{\\partial L}{\\partial 𝜷}\n",
       "\\end{equation}\n",
       "\n",
       "Where we take the partial deravative of Sum of Square L with respect to \n",
       "each value in the 𝜷 vector and set it equal to 0\n"
      ]
     },
     "metadata": {},
     "output_type": "display_data"
    }
   ],
   "source": [
    "display_markdown('''\n",
    "To solve the equation, We will first calculate the Sum of Square L\n",
    "\n",
    "and then we will try to minimise L using Least Square Estimator \n",
    "\\\\begin{equation}\n",
    "\\\\hat{𝜷}\n",
    "\\\\end{equation}\n",
    "and it is the solution for 𝜷 in the below equation:\n",
    "\\\\begin{equation}\n",
    "\\\\frac{\\\\partial L}{\\\\partial 𝜷}\n",
    "\\\\end{equation}\n",
    "\n",
    "Where we take the partial deravative of Sum of Square L with respect to \n",
    "each value in the 𝜷 vector and set it equal to 0\n",
    "''', raw=True)"
   ]
  },
  {
   "cell_type": "code",
   "execution_count": 11,
   "id": "01f004a3",
   "metadata": {},
   "outputs": [
    {
     "data": {
      "text/markdown": [
       "\n",
       "We can also use Minimization (calculus) formula of Normal Equations:\n",
       "\\begin{equation}\n",
       "    \\begin{bmatrix}\n",
       "        X{^T}.X\n",
       "    \\end{bmatrix} . \\hat{𝜷} = X{^T}.y\n",
       "\\end{equation}\n"
      ]
     },
     "metadata": {},
     "output_type": "display_data"
    }
   ],
   "source": [
    "display_markdown('''\n",
    "We can also use Minimization (calculus) formula of Normal Equations:\n",
    "\\\\begin{equation}\n",
    "    \\\\begin{bmatrix}\n",
    "        X{^T}.X\n",
    "    \\\\end{bmatrix} . \\hat{𝜷} = X{^T}.y\n",
    "\\\\end{equation}\n",
    "''', raw=True)"
   ]
  },
  {
   "cell_type": "code",
   "execution_count": 17,
   "id": "144d1b2e",
   "metadata": {},
   "outputs": [
    {
     "data": {
      "text/markdown": [
       "\n",
       "If we solve the normal equation for least square estimator\n",
       "we would come up with below equation:\n",
       "\\begin{equation}\n",
       "    \\hat{𝜷}=\\begin{bmatrix}\n",
       "        X{^T}.X\n",
       "    \\end{bmatrix} ^{-1}.X{^T}.y\n",
       "\\end{equation}\n",
       "\n",
       "This matrix equation provides the values of the model parameters that\n",
       "minimize Lease Square L.\n",
       "\n",
       "𝜷 hat is our estimate for all the parameters in the  models\n",
       "\n"
      ]
     },
     "metadata": {},
     "output_type": "display_data"
    }
   ],
   "source": [
    "display_markdown('''\n",
    "If we solve the normal equation for least square estimator\n",
    "we would come up with below equation:\n",
    "\\\\begin{equation}\n",
    "    \\hat{𝜷}=\\\\begin{bmatrix}\n",
    "        X{^T}.X\n",
    "    \\\\end{bmatrix} ^{-1}.X{^T}.y\n",
    "\\\\end{equation}\n",
    "\n",
    "This matrix equation provides the values of the model parameters that\n",
    "minimize Lease Square L.\n",
    "\n",
    "𝜷 hat is our estimate for all the parameters in the  models\n",
    "\n",
    "''', raw=True)"
   ]
  },
  {
   "cell_type": "code",
   "execution_count": 4,
   "id": "96e09de2",
   "metadata": {},
   "outputs": [],
   "source": [
    "# Lets define the X valiable \n",
    "Satisfaction_Data = pd.read_csv(\"data/SatisfactoryData/Satisfaction_Data.csv\")"
   ]
  },
  {
   "cell_type": "code",
   "execution_count": 5,
   "id": "920a03b2",
   "metadata": {},
   "outputs": [],
   "source": [
    "# we know from our analysis, that\n",
    "\n",
    "feature_column  = [\"Age\", \"Severity\", \"Surg-Med\", \"Anxiety\"]\n",
    "\n",
    "observation_column = [\"Satisfaction\"]"
   ]
  },
  {
   "cell_type": "code",
   "execution_count": 6,
   "id": "0e861064",
   "metadata": {},
   "outputs": [
    {
     "name": "stderr",
     "output_type": "stream",
     "text": [
      "/opt/conda/lib/python3.8/site-packages/tqdm/auto.py:22: TqdmWarning: IProgress not found. Please update jupyter and ipywidgets. See https://ipywidgets.readthedocs.io/en/stable/user_install.html\n",
      "  from .autonotebook import tqdm as notebook_tqdm\n"
     ]
    }
   ],
   "source": [
    "# Import the required library first\n",
    "\n",
    "from statsModel import LeastSEModel as lem"
   ]
  },
  {
   "cell_type": "code",
   "execution_count": 7,
   "id": "64d143ae",
   "metadata": {},
   "outputs": [],
   "source": [
    "ann = lem(Satisfaction_Data, feature_column, observation_column)"
   ]
  },
  {
   "cell_type": "code",
   "execution_count": 8,
   "id": "0f01a164",
   "metadata": {},
   "outputs": [],
   "source": [
    "# lets now unpact the feature and target data\n",
    "X, y  = ann.InitInput()"
   ]
  },
  {
   "cell_type": "code",
   "execution_count": 9,
   "id": "578bab3c",
   "metadata": {},
   "outputs": [
    {
     "data": {
      "text/plain": [
       "tensor([[143.8675],\n",
       "        [ -1.1172],\n",
       "        [ -0.5862],\n",
       "        [  0.4149],\n",
       "        [  1.3064]], device='cuda:0')"
      ]
     },
     "execution_count": 9,
     "metadata": {},
     "output_type": "execute_result"
    }
   ],
   "source": [
    "ann.LSE_Model()"
   ]
  },
  {
   "cell_type": "code",
   "execution_count": null,
   "id": "e953116b",
   "metadata": {},
   "outputs": [],
   "source": []
  },
  {
   "cell_type": "code",
   "execution_count": null,
   "id": "aeea8926",
   "metadata": {},
   "outputs": [],
   "source": []
  },
  {
   "cell_type": "code",
   "execution_count": null,
   "id": "d0ad8959",
   "metadata": {},
   "outputs": [],
   "source": []
  },
  {
   "cell_type": "code",
   "execution_count": null,
   "id": "6e32cb8c",
   "metadata": {},
   "outputs": [],
   "source": []
  },
  {
   "cell_type": "code",
   "execution_count": null,
   "id": "0ad4409a",
   "metadata": {},
   "outputs": [],
   "source": []
  },
  {
   "cell_type": "code",
   "execution_count": null,
   "id": "7e19c654",
   "metadata": {},
   "outputs": [],
   "source": []
  }
 ],
 "metadata": {
  "kernelspec": {
   "display_name": "Python 3 (ipykernel)",
   "language": "python",
   "name": "python3"
  },
  "language_info": {
   "codemirror_mode": {
    "name": "ipython",
    "version": 3
   },
   "file_extension": ".py",
   "mimetype": "text/x-python",
   "name": "python",
   "nbconvert_exporter": "python",
   "pygments_lexer": "ipython3",
   "version": "3.8.13"
  }
 },
 "nbformat": 4,
 "nbformat_minor": 5
}
