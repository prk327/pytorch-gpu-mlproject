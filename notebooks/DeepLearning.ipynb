{
 "cells": [
  {
   "cell_type": "markdown",
   "id": "ccc826cc",
   "metadata": {},
   "source": [
    "# Deep Machine Learning"
   ]
  },
  {
   "cell_type": "markdown",
   "id": "6213c653",
   "metadata": {},
   "source": [
    "##### The architecture of Artificial Neural Networks draws inspiration from the human brain"
   ]
  },
  {
   "cell_type": "markdown",
   "id": "65d7e574",
   "metadata": {},
   "source": [
    "##### The perceptron acts as a binary classifier and can perform complex classification tasks."
   ]
  },
  {
   "cell_type": "markdown",
   "id": "bf2e3203",
   "metadata": {},
   "source": [
    "##### the notations that we would use in the future segments and modules."
   ]
  },
  {
   "cell_type": "markdown",
   "id": "f8007e99",
   "metadata": {},
   "source": [
    "<ol>\n",
    "<li><b><i>W</i></b> is for weight matrix</li>\n",
    "<li><b><i>b</i></b> shall stand for the bias</li>\n",
    "<li><b><i>x</i></b> stands for input</li>\n",
    "<li><b><i>y</i></b> is the ground truth label</li>\n",
    "<li><b><i>p</i></b> is the probability vector of the predicted output</li>\n",
    "<li><b><i>h</i></b> is the output of the hidden layers</li>\n",
    "<li>superscript stands for layer number</li>\n",
    "<li>subscript stands for the index of the individual neuron</li>\n",
    "</ol>\n",
    "You also were introduced to the most common activation functions such as sigmoid, relu, tanh and leaky relu. '''"
   ]
  },
  {
   "cell_type": "markdown",
   "id": "0711a5b8",
   "metadata": {},
   "source": [
    "Now in order explain how nural network work, lets use an example"
   ]
  },
  {
   "cell_type": "markdown",
   "id": "517243ed",
   "metadata": {},
   "source": [
    "##### Consider a sushi place you plan to visit on the coming Saturday. There are various factors that would affect this decision, such as:\n",
    "<ol>\n",
    "<li>How far is it?</li>\n",
    "\n",
    "<li>How costly is it?</li>\n",
    "\n",
    "<li>How many people are accompanying you?</li>\n",
    "\n",
    "##### You take a decision based on multiple such factors. Also, each decision factor has a different ‘weight’ - for example, the distance of the place might be more important than the number of people. "
   ]
  },
  {
   "cell_type": "markdown",
   "id": "6a945615",
   "metadata": {},
   "source": [
    "##### Perceptrons work in a similar way. They take some signals as inputs and perform a set of simple calculations to arrive at a decision.\n",
    "##### Let’s study perceptrons in some detail."
   ]
  },
  {
   "cell_type": "markdown",
   "id": "d2a69418",
   "metadata": {},
   "source": [
    "##### the perceptron takes a <b><i>weighted sum</i></b> of multiple inputs (along with a <b>bias</b>) as the cumulative input\n",
    "##### and applies a step function on the cumulative input, i.e. it returns <b>1</b> if the input is positive, else <b>-1</b>."
   ]
  },
  {
   "cell_type": "markdown",
   "id": "21da4e0c",
   "metadata": {},
   "source": [
    "So, here the cumulative input will be <b><i>y</i></b> = <b><i>w</i></b><b><sup>T</sup> . </b><b><i>x</i></b> <b>+</b> <b><i>b</i></b>"
   ]
  },
  {
   "cell_type": "markdown",
   "id": "5ad05d90",
   "metadata": {},
   "source": [
    "and the step function is if <b><i>y</i></b> > 0 then 1 else 0"
   ]
  },
  {
   "cell_type": "markdown",
   "id": "f718d447",
   "metadata": {},
   "source": [
    "here <b><i>w</i></b> and <b><i>x</i></b> are refered to as a column vector"
   ]
  },
  {
   "cell_type": "markdown",
   "id": "b1cf7f00",
   "metadata": {},
   "source": [
    "But in most of the new library they are represented as homogeneous coordinates"
   ]
  },
  {
   "cell_type": "markdown",
   "id": "996a1b14",
   "metadata": {},
   "source": [
    "ie. <b><i>x</i></b> can be represented as [<b><i>x1</i></b>,<b><i>x2</i></b>,<b><i>x3</i></b>...., 1] here 1 is added for bais sake"
   ]
  },
  {
   "cell_type": "markdown",
   "id": "1f39c310",
   "metadata": {},
   "source": [
    "and <b><i>w</i></b> can be represented as [<b><i>w1</i></b>, <b><i>w2</i></b>, <b><i>w3</i></b>..., <b><i>b</i></b>] here <b><i>b</i></b> is the bias term"
   ]
  },
  {
   "cell_type": "code",
   "execution_count": 2,
   "id": "3080f732",
   "metadata": {},
   "outputs": [
    {
     "name": "stderr",
     "output_type": "stream",
     "text": [
      "/opt/conda/lib/python3.8/site-packages/tqdm/auto.py:22: TqdmWarning: IProgress not found. Please update jupyter and ipywidgets. See https://ipywidgets.readthedocs.io/en/stable/user_install.html\n",
      "  from .autonotebook import tqdm as notebook_tqdm\n"
     ]
    }
   ],
   "source": [
    "import torch"
   ]
  },
  {
   "cell_type": "markdown",
   "id": "cb1eb632",
   "metadata": {},
   "source": [
    "##### Lets solve an example:"
   ]
  },
  {
   "cell_type": "code",
   "execution_count": 3,
   "id": "60eae7b3",
   "metadata": {},
   "outputs": [],
   "source": [
    "x = torch.tensor([1,2,3]); # x (input) is of size 1 row and 3 column"
   ]
  },
  {
   "cell_type": "code",
   "execution_count": 4,
   "id": "d8d06db0",
   "metadata": {},
   "outputs": [],
   "source": [
    "w = torch.tensor([4,5,6]); # w (weight) is of size 1 row and 3 column"
   ]
  },
  {
   "cell_type": "code",
   "execution_count": 5,
   "id": "ec53aa41",
   "metadata": {},
   "outputs": [],
   "source": [
    "b = 3; # b is the bias term"
   ]
  },
  {
   "cell_type": "markdown",
   "id": "d43ae83d",
   "metadata": {},
   "source": [
    "Now what is the value of <b><i>y</i></b> = <b><i>w</i></b><b><sup>T</sup> . </b><b><i>x</i></b> <b>+</b> <b><i>b</i></b>"
   ]
  },
  {
   "cell_type": "code",
   "execution_count": 6,
   "id": "b493b46e",
   "metadata": {},
   "outputs": [],
   "source": [
    "y = torch.dot(w.t(), x) + b"
   ]
  },
  {
   "cell_type": "code",
   "execution_count": 7,
   "id": "210dbdae",
   "metadata": {},
   "outputs": [],
   "source": [
    "cs = y.sum() # cumulative sum"
   ]
  },
  {
   "cell_type": "code",
   "execution_count": 8,
   "id": "95b04b42",
   "metadata": {},
   "outputs": [
    {
     "name": "stdout",
     "output_type": "stream",
     "text": [
      "1\n"
     ]
    }
   ],
   "source": [
    "# Step Function\n",
    "if cs > 0 :\n",
    "    print(1)\n",
    "else:\n",
    "    print(0)"
   ]
  },
  {
   "cell_type": "markdown",
   "id": "bd768741",
   "metadata": {},
   "source": [
    "##### Now lets solve the same problem using <b>Homogeneous Dimension</B>"
   ]
  },
  {
   "cell_type": "code",
   "execution_count": 9,
   "id": "48bc8a75",
   "metadata": {},
   "outputs": [],
   "source": [
    "x = torch.tensor([1,2,3,1]); # x (input) and 1 is homogeneous dimention is of size 1 row and 4 column"
   ]
  },
  {
   "cell_type": "code",
   "execution_count": 10,
   "id": "f57b0b5e",
   "metadata": {},
   "outputs": [],
   "source": [
    "b = 3; # b is the bias term"
   ]
  },
  {
   "cell_type": "code",
   "execution_count": 11,
   "id": "2e454ea1",
   "metadata": {},
   "outputs": [],
   "source": [
    "w = torch.tensor([4,5,6, b]); # w (weight) and b (bias) is of size 1 row and 4 column"
   ]
  },
  {
   "cell_type": "markdown",
   "id": "3b705c19",
   "metadata": {},
   "source": [
    "Now what is the value of <b><i>y</i></b> = <b><i>w</i></b><b><sup>T</sup> . </b><b><i>x</i></b>"
   ]
  },
  {
   "cell_type": "code",
   "execution_count": 12,
   "id": "0dff2b3f",
   "metadata": {},
   "outputs": [],
   "source": [
    "y = torch.dot(w.t(), x) # the formula has change No bias term added"
   ]
  },
  {
   "cell_type": "code",
   "execution_count": 13,
   "id": "00312e7f",
   "metadata": {},
   "outputs": [],
   "source": [
    "cs = y.sum() # cumulative sum"
   ]
  },
  {
   "cell_type": "code",
   "execution_count": 14,
   "id": "72852fe0",
   "metadata": {},
   "outputs": [
    {
     "name": "stdout",
     "output_type": "stream",
     "text": [
      "1\n"
     ]
    }
   ],
   "source": [
    "# Step Function\n",
    "if cs > 0 :\n",
    "    print(1)\n",
    "else:\n",
    "    print(0)"
   ]
  },
  {
   "cell_type": "markdown",
   "id": "d348f212",
   "metadata": {},
   "source": [
    "We can see that by using Homogeneous Dimension we represent y without adding b term"
   ]
  },
  {
   "cell_type": "markdown",
   "id": "83aa6502",
   "metadata": {},
   "source": [
    "##### In the above example we have see how to solve the problem when w, x and b are given\n",
    "##### but this never true for real world problem, only x and y are known, and we need to find out both w and b\n",
    "##### So, in order to learn the weight and bias <i>Rosenblatt</i> suggested an elegant iterative solution to train the perceptron (i.e. to learn the weights):"
   ]
  },
  {
   "cell_type": "markdown",
   "id": "9c983e08",
   "metadata": {},
   "source": [
    "####  Perceptron Learning Algorithm : <b><i>w</i></b><b><i><sub>t + 1</sub></i></b> = <b><i>w</i></b><b><i><sub>t</sub></i></b> + <b><i>y</i></b><b><i><sub>i<sub>t</sub></sub></i></b> . <b><i>x</i></b><b><i><sub>i<sub>t</sub></sub></i></b>"
   ]
  },
  {
   "cell_type": "markdown",
   "id": "9a3cee75",
   "metadata": {},
   "source": [
    "#### where <b><i>y</i></b><b><i><sub>i<sub>t</sub></sub></i></b> . <b><i>x</i></b><b><i><sub>i<sub>t</sub></sub></i></b> is the error term"
   ]
  },
  {
   "cell_type": "markdown",
   "id": "2ce4e62d",
   "metadata": {},
   "source": [
    "Consider the following figure with 6 data points and the separator. These are represented by numbers on a scale. <br>\n",
    "The blue points belong to class '-1' and the orange points belong to the class '+1'."
   ]
  },
  {
   "cell_type": "code",
   "execution_count": 15,
   "id": "a4fbf8b0",
   "metadata": {},
   "outputs": [],
   "source": [
    "import pandas as pd"
   ]
  },
  {
   "cell_type": "code",
   "execution_count": 16,
   "id": "87099fdc",
   "metadata": {},
   "outputs": [],
   "source": [
    "# initialize list of lists\n",
    "data = [[1,0,1], [3,1,1], [4,2,1], [0,1,-1], [1,6,-1], [2,4,-1]]"
   ]
  },
  {
   "cell_type": "code",
   "execution_count": 17,
   "id": "e40427fb",
   "metadata": {},
   "outputs": [],
   "source": [
    "TestData = pd.DataFrame(data, columns=[\"X1\",\"X2\",\"Y\"])"
   ]
  },
  {
   "cell_type": "code",
   "execution_count": 18,
   "id": "a945c45d",
   "metadata": {},
   "outputs": [
    {
     "data": {
      "text/html": [
       "<div>\n",
       "<style scoped>\n",
       "    .dataframe tbody tr th:only-of-type {\n",
       "        vertical-align: middle;\n",
       "    }\n",
       "\n",
       "    .dataframe tbody tr th {\n",
       "        vertical-align: top;\n",
       "    }\n",
       "\n",
       "    .dataframe thead th {\n",
       "        text-align: right;\n",
       "    }\n",
       "</style>\n",
       "<table border=\"1\" class=\"dataframe\">\n",
       "  <thead>\n",
       "    <tr style=\"text-align: right;\">\n",
       "      <th></th>\n",
       "      <th>X1</th>\n",
       "      <th>X2</th>\n",
       "      <th>Y</th>\n",
       "    </tr>\n",
       "  </thead>\n",
       "  <tbody>\n",
       "    <tr>\n",
       "      <th>0</th>\n",
       "      <td>1</td>\n",
       "      <td>0</td>\n",
       "      <td>1</td>\n",
       "    </tr>\n",
       "    <tr>\n",
       "      <th>1</th>\n",
       "      <td>3</td>\n",
       "      <td>1</td>\n",
       "      <td>1</td>\n",
       "    </tr>\n",
       "    <tr>\n",
       "      <th>2</th>\n",
       "      <td>4</td>\n",
       "      <td>2</td>\n",
       "      <td>1</td>\n",
       "    </tr>\n",
       "    <tr>\n",
       "      <th>3</th>\n",
       "      <td>0</td>\n",
       "      <td>1</td>\n",
       "      <td>-1</td>\n",
       "    </tr>\n",
       "    <tr>\n",
       "      <th>4</th>\n",
       "      <td>1</td>\n",
       "      <td>6</td>\n",
       "      <td>-1</td>\n",
       "    </tr>\n",
       "    <tr>\n",
       "      <th>5</th>\n",
       "      <td>2</td>\n",
       "      <td>4</td>\n",
       "      <td>-1</td>\n",
       "    </tr>\n",
       "  </tbody>\n",
       "</table>\n",
       "</div>"
      ],
      "text/plain": [
       "   X1  X2  Y\n",
       "0   1   0  1\n",
       "1   3   1  1\n",
       "2   4   2  1\n",
       "3   0   1 -1\n",
       "4   1   6 -1\n",
       "5   2   4 -1"
      ]
     },
     "execution_count": 18,
     "metadata": {},
     "output_type": "execute_result"
    }
   ],
   "source": [
    "TestData"
   ]
  },
  {
   "cell_type": "code",
   "execution_count": 18,
   "id": "503e1421",
   "metadata": {},
   "outputs": [],
   "source": [
    "# lets create the nural network with self updating weight\n",
    "import pandas as pd\n",
    "import torch\n",
    "\n",
    "# determine the supported device\n",
    "def get_device():\n",
    "    if torch.cuda.is_available():\n",
    "        device = torch.device('cuda:0')\n",
    "    else:\n",
    "        device = torch.device('cpu') # don't have GPU \n",
    "    return device\n",
    "\n",
    "# convert a df to tensor to be used in pytorch\n",
    "def df_to_tensor(df, device):\n",
    "    return torch.from_numpy(df.values).float().to(device)\n",
    "\n",
    "def NeuralNetwork(df, feature, target):\n",
    "    # Now lets add the Homogeneous coordinates\n",
    "    df[\"HCoordinates\"] = df.apply(lambda x: 1, axis = 1)\n",
    "    feature.append(\"HCoordinates\")\n",
    "    # lets create x as feature set\n",
    "    X = df[feature]\n",
    "    # lets create y as target set\n",
    "    Y = df[target]\n",
    "    # determine the supported device\n",
    "    device = get_device()\n",
    "    # lets convert the dataframe to torch.tensor\n",
    "    df_tensor = df_to_tensor(X, device)\n",
    "    # lets define the initial weight\n",
    "    w = torch.tensor([[3,-1,0]]).float()\n",
    "    def updateWeight(w):\n",
    "        # copy the calculation to cuda device\n",
    "        wt = w.t().to(device)\n",
    "        # predict the target sets\n",
    "        y = torch.matmul(df_tensor, wt)\n",
    "        # copy the y array to cpu device\n",
    "        y = y.cpu().numpy()\n",
    "        # create a new column with predicted result\n",
    "        df[\"x_Dash\"] = y\n",
    "        # create a predicted column\n",
    "        df[\"Y_Dash\"] = (y > 1) * 1\n",
    "        # update the ydash with other category\n",
    "        df[\"Y_Dash\"] = df[\"Y_Dash\"].apply(lambda x: -1 if x == 0 else x)\n",
    "        # create a error column\n",
    "        df[\"error\"] = df[target[0]] - df[\"Y_Dash\"]\n",
    "        # so the missed classifyed x term is\n",
    "        x_error = df_to_tensor(df[feature][df.error != 0], device)\n",
    "        # so the missed classifyed y term is\n",
    "        y_error = df_to_tensor(df[target][df.error != 0], device)\n",
    "        # so the initial weight w0 is\n",
    "        w0 = w.to(device)\n",
    "        # now the updated weight is\n",
    "        w1 = w0 + (y_error * x_error)\n",
    "        return w1\n",
    "    w1 = updateWeight(w)\n",
    "#     w2 = updateWeight(w1)\n",
    "    return w1"
   ]
  },
  {
   "cell_type": "code",
   "execution_count": 79,
   "id": "21f2b3d2",
   "metadata": {},
   "outputs": [],
   "source": [
    "# importing \"copy\" for copy operations\n",
    "import copy\n",
    "\n",
    "class NeuralNetTest:\n",
    "    \n",
    "    # Instance attribute\n",
    "    def __init__(self, DataFrame, Feature, Target):\n",
    "        self._dataframe = copy.deepcopy(DataFrame)\n",
    "        self._feature = copy.deepcopy(Feature)\n",
    "        self._target = copy.deepcopy(Target)\n",
    "        # determine the supported device\n",
    "        self._device = self.get_device()\n",
    "        # weight matrix\n",
    "        # lets define the initial weight\n",
    "        self._weight = torch.tensor([[3,-1,0]]).float()\n",
    "        # so the initial weight w0 is\n",
    "        self.Weight = self._weight.to(self._device)\n",
    "        \n",
    "    # helper function\n",
    "    # determine the supported device\n",
    "    def get_device(self):\n",
    "        if torch.cuda.is_available():\n",
    "            device = torch.device('cuda:0')\n",
    "        else:\n",
    "            device = torch.device('cpu') # don't have GPU \n",
    "        return device\n",
    "\n",
    "    # convert a df to tensor to be used in pytorch\n",
    "    def df_to_tensor(self, DataFrame):\n",
    "        return torch.from_numpy(DataFrame.values).float().to(self._device)\n",
    "        \n",
    "    # Initialize Input Parameters\n",
    "    def InitInput(self):\n",
    "         # Now lets add the Homogeneous coordinates\n",
    "        self._dataframe[\"HCoordinates\"] = self._dataframe.apply(lambda x: 1, axis = 1)\n",
    "        self._feature.append(\"HCoordinates\")\n",
    "        # lets create x as feature set\n",
    "        X = self._dataframe[self._feature]\n",
    "        # lets convert the dataframe to torch.tensor\n",
    "        df_tensor = self.df_to_tensor(X)\n",
    "        return df_tensor\n",
    "        \n",
    "    # learning Function\n",
    "    def StartLearning(self, DataFrameTensor):\n",
    "        wsize = self.Weight.size()[1]\n",
    "        ysize = DataFrameTensor.size()[0]\n",
    "        if wsize == ysize:\n",
    "            y = torch.matmul(self.Weight, DataFrameTensor)\n",
    "        else:\n",
    "            it = DataFrameTensor.transpose_(0,1)\n",
    "            y = torch.matmul(self.Weight, it)\n",
    "        # check the lenght of the y column\n",
    "        column = y.size()[1]\n",
    "        # copy the y array to cpu device\n",
    "        y = y.cpu().numpy()\n",
    "        # resize the numpy array\n",
    "        y.resize(column,1)\n",
    "        # lets copy the data frame first\n",
    "        DF = copy.deepcopy(self._dataframe)\n",
    "        # create a new column with predicted result\n",
    "        DF[\"x_Dash\"] = y\n",
    "        # create a predicted column\n",
    "        DF[\"Y_Dash\"] = (y > 1) * 1\n",
    "        # update the ydash with other category\n",
    "        DF[\"Y_Dash\"] = DF[\"Y_Dash\"].apply(lambda x: -1 if x == 0 else x)\n",
    "        # create a error column\n",
    "        DF[\"error\"] = DF[self._target[0]] - DF[\"Y_Dash\"]\n",
    "        # so the missed classifyed x term is\n",
    "        x_error = self.df_to_tensor(DF[self._feature][DF.error != 0])\n",
    "        # so the missed classifyed y term is\n",
    "        y_error = self.df_to_tensor(DF[self._target][DF.error != 0])\n",
    "        # now the updated weight is\n",
    "        self.Weight = self.Weight + (y_error * x_error)\n",
    "        return DF"
   ]
  },
  {
   "cell_type": "code",
   "execution_count": 19,
   "id": "d55aa5e7",
   "metadata": {},
   "outputs": [
    {
     "data": {
      "text/plain": [
       "tensor([[ 1., -5., -1.]], device='cuda:0')"
      ]
     },
     "execution_count": 19,
     "metadata": {},
     "output_type": "execute_result"
    }
   ],
   "source": [
    "NeuralNetwork(TestData, [\"X1\",\"X2\"], [\"Y\"])"
   ]
  },
  {
   "cell_type": "code",
   "execution_count": 80,
   "id": "699f3774",
   "metadata": {},
   "outputs": [],
   "source": [
    "myLearningEx = NeuralNetTest(TestData, [\"X1\",\"X2\"], [\"Y\"])"
   ]
  },
  {
   "cell_type": "code",
   "execution_count": 81,
   "id": "2014d740",
   "metadata": {},
   "outputs": [],
   "source": [
    "myDatasets = myLearningEx.InitInput()"
   ]
  },
  {
   "cell_type": "code",
   "execution_count": 82,
   "id": "85b95a55",
   "metadata": {},
   "outputs": [
    {
     "data": {
      "text/plain": [
       "tensor([[1., 0., 1.],\n",
       "        [3., 1., 1.],\n",
       "        [4., 2., 1.],\n",
       "        [0., 1., 1.],\n",
       "        [1., 6., 1.],\n",
       "        [2., 4., 1.]], device='cuda:0')"
      ]
     },
     "execution_count": 82,
     "metadata": {},
     "output_type": "execute_result"
    }
   ],
   "source": [
    "myDatasets"
   ]
  },
  {
   "cell_type": "code",
   "execution_count": 83,
   "id": "e278e94a",
   "metadata": {},
   "outputs": [],
   "source": [
    "myDatasetsLearn = myLearningEx.StartLearning(myDatasets)"
   ]
  },
  {
   "cell_type": "code",
   "execution_count": 84,
   "id": "424dd0ec",
   "metadata": {},
   "outputs": [
    {
     "data": {
      "text/html": [
       "<div>\n",
       "<style scoped>\n",
       "    .dataframe tbody tr th:only-of-type {\n",
       "        vertical-align: middle;\n",
       "    }\n",
       "\n",
       "    .dataframe tbody tr th {\n",
       "        vertical-align: top;\n",
       "    }\n",
       "\n",
       "    .dataframe thead th {\n",
       "        text-align: right;\n",
       "    }\n",
       "</style>\n",
       "<table border=\"1\" class=\"dataframe\">\n",
       "  <thead>\n",
       "    <tr style=\"text-align: right;\">\n",
       "      <th></th>\n",
       "      <th>X1</th>\n",
       "      <th>X2</th>\n",
       "      <th>Y</th>\n",
       "      <th>HCoordinates</th>\n",
       "      <th>x_Dash</th>\n",
       "      <th>Y_Dash</th>\n",
       "      <th>error</th>\n",
       "    </tr>\n",
       "  </thead>\n",
       "  <tbody>\n",
       "    <tr>\n",
       "      <th>0</th>\n",
       "      <td>1</td>\n",
       "      <td>0</td>\n",
       "      <td>1</td>\n",
       "      <td>1</td>\n",
       "      <td>3.0</td>\n",
       "      <td>1</td>\n",
       "      <td>0</td>\n",
       "    </tr>\n",
       "    <tr>\n",
       "      <th>1</th>\n",
       "      <td>3</td>\n",
       "      <td>1</td>\n",
       "      <td>1</td>\n",
       "      <td>1</td>\n",
       "      <td>8.0</td>\n",
       "      <td>1</td>\n",
       "      <td>0</td>\n",
       "    </tr>\n",
       "    <tr>\n",
       "      <th>2</th>\n",
       "      <td>4</td>\n",
       "      <td>2</td>\n",
       "      <td>1</td>\n",
       "      <td>1</td>\n",
       "      <td>10.0</td>\n",
       "      <td>1</td>\n",
       "      <td>0</td>\n",
       "    </tr>\n",
       "    <tr>\n",
       "      <th>3</th>\n",
       "      <td>0</td>\n",
       "      <td>1</td>\n",
       "      <td>-1</td>\n",
       "      <td>1</td>\n",
       "      <td>-1.0</td>\n",
       "      <td>-1</td>\n",
       "      <td>0</td>\n",
       "    </tr>\n",
       "    <tr>\n",
       "      <th>4</th>\n",
       "      <td>1</td>\n",
       "      <td>6</td>\n",
       "      <td>-1</td>\n",
       "      <td>1</td>\n",
       "      <td>-3.0</td>\n",
       "      <td>-1</td>\n",
       "      <td>0</td>\n",
       "    </tr>\n",
       "    <tr>\n",
       "      <th>5</th>\n",
       "      <td>2</td>\n",
       "      <td>4</td>\n",
       "      <td>-1</td>\n",
       "      <td>1</td>\n",
       "      <td>2.0</td>\n",
       "      <td>1</td>\n",
       "      <td>-2</td>\n",
       "    </tr>\n",
       "  </tbody>\n",
       "</table>\n",
       "</div>"
      ],
      "text/plain": [
       "   X1  X2  Y  HCoordinates  x_Dash  Y_Dash  error\n",
       "0   1   0  1             1     3.0       1      0\n",
       "1   3   1  1             1     8.0       1      0\n",
       "2   4   2  1             1    10.0       1      0\n",
       "3   0   1 -1             1    -1.0      -1      0\n",
       "4   1   6 -1             1    -3.0      -1      0\n",
       "5   2   4 -1             1     2.0       1     -2"
      ]
     },
     "execution_count": 84,
     "metadata": {},
     "output_type": "execute_result"
    }
   ],
   "source": [
    "myDatasetsLearn"
   ]
  },
  {
   "cell_type": "code",
   "execution_count": 85,
   "id": "7cf8a2ac",
   "metadata": {},
   "outputs": [
    {
     "data": {
      "text/plain": [
       "tensor([[ 1., -5., -1.]], device='cuda:0')"
      ]
     },
     "execution_count": 85,
     "metadata": {},
     "output_type": "execute_result"
    }
   ],
   "source": [
    "myLearningEx.Weight"
   ]
  },
  {
   "cell_type": "code",
   "execution_count": 86,
   "id": "67d11bd7",
   "metadata": {},
   "outputs": [],
   "source": [
    "myDatasetsLearnSecond = myLearningEx.StartLearning(myDatasets)"
   ]
  },
  {
   "cell_type": "code",
   "execution_count": 87,
   "id": "7eba7a15",
   "metadata": {},
   "outputs": [
    {
     "data": {
      "text/plain": [
       "tensor([[ 2., -5.,  0.],\n",
       "        [ 4., -4.,  0.],\n",
       "        [ 5., -3.,  0.]], device='cuda:0')"
      ]
     },
     "execution_count": 87,
     "metadata": {},
     "output_type": "execute_result"
    }
   ],
   "source": [
    "myLearningEx.Weight"
   ]
  },
  {
   "cell_type": "code",
   "execution_count": 88,
   "id": "11d1a328",
   "metadata": {},
   "outputs": [
    {
     "data": {
      "text/html": [
       "<div>\n",
       "<style scoped>\n",
       "    .dataframe tbody tr th:only-of-type {\n",
       "        vertical-align: middle;\n",
       "    }\n",
       "\n",
       "    .dataframe tbody tr th {\n",
       "        vertical-align: top;\n",
       "    }\n",
       "\n",
       "    .dataframe thead th {\n",
       "        text-align: right;\n",
       "    }\n",
       "</style>\n",
       "<table border=\"1\" class=\"dataframe\">\n",
       "  <thead>\n",
       "    <tr style=\"text-align: right;\">\n",
       "      <th></th>\n",
       "      <th>X1</th>\n",
       "      <th>X2</th>\n",
       "      <th>Y</th>\n",
       "      <th>HCoordinates</th>\n",
       "      <th>x_Dash</th>\n",
       "      <th>Y_Dash</th>\n",
       "      <th>error</th>\n",
       "    </tr>\n",
       "  </thead>\n",
       "  <tbody>\n",
       "    <tr>\n",
       "      <th>0</th>\n",
       "      <td>1</td>\n",
       "      <td>0</td>\n",
       "      <td>1</td>\n",
       "      <td>1</td>\n",
       "      <td>0.0</td>\n",
       "      <td>-1</td>\n",
       "      <td>2</td>\n",
       "    </tr>\n",
       "    <tr>\n",
       "      <th>1</th>\n",
       "      <td>3</td>\n",
       "      <td>1</td>\n",
       "      <td>1</td>\n",
       "      <td>1</td>\n",
       "      <td>-3.0</td>\n",
       "      <td>-1</td>\n",
       "      <td>2</td>\n",
       "    </tr>\n",
       "    <tr>\n",
       "      <th>2</th>\n",
       "      <td>4</td>\n",
       "      <td>2</td>\n",
       "      <td>1</td>\n",
       "      <td>1</td>\n",
       "      <td>-7.0</td>\n",
       "      <td>-1</td>\n",
       "      <td>2</td>\n",
       "    </tr>\n",
       "    <tr>\n",
       "      <th>3</th>\n",
       "      <td>0</td>\n",
       "      <td>1</td>\n",
       "      <td>-1</td>\n",
       "      <td>1</td>\n",
       "      <td>-6.0</td>\n",
       "      <td>-1</td>\n",
       "      <td>0</td>\n",
       "    </tr>\n",
       "    <tr>\n",
       "      <th>4</th>\n",
       "      <td>1</td>\n",
       "      <td>6</td>\n",
       "      <td>-1</td>\n",
       "      <td>1</td>\n",
       "      <td>-30.0</td>\n",
       "      <td>-1</td>\n",
       "      <td>0</td>\n",
       "    </tr>\n",
       "    <tr>\n",
       "      <th>5</th>\n",
       "      <td>2</td>\n",
       "      <td>4</td>\n",
       "      <td>-1</td>\n",
       "      <td>1</td>\n",
       "      <td>-19.0</td>\n",
       "      <td>-1</td>\n",
       "      <td>0</td>\n",
       "    </tr>\n",
       "  </tbody>\n",
       "</table>\n",
       "</div>"
      ],
      "text/plain": [
       "   X1  X2  Y  HCoordinates  x_Dash  Y_Dash  error\n",
       "0   1   0  1             1     0.0      -1      2\n",
       "1   3   1  1             1    -3.0      -1      2\n",
       "2   4   2  1             1    -7.0      -1      2\n",
       "3   0   1 -1             1    -6.0      -1      0\n",
       "4   1   6 -1             1   -30.0      -1      0\n",
       "5   2   4 -1             1   -19.0      -1      0"
      ]
     },
     "execution_count": 88,
     "metadata": {},
     "output_type": "execute_result"
    }
   ],
   "source": [
    "myDatasetsLearnSecond"
   ]
  },
  {
   "cell_type": "code",
   "execution_count": 70,
   "id": "0a6cf945",
   "metadata": {},
   "outputs": [],
   "source": []
  },
  {
   "cell_type": "code",
   "execution_count": 71,
   "id": "3f7efeb1",
   "metadata": {},
   "outputs": [
    {
     "data": {
      "text/html": [
       "<div>\n",
       "<style scoped>\n",
       "    .dataframe tbody tr th:only-of-type {\n",
       "        vertical-align: middle;\n",
       "    }\n",
       "\n",
       "    .dataframe tbody tr th {\n",
       "        vertical-align: top;\n",
       "    }\n",
       "\n",
       "    .dataframe thead th {\n",
       "        text-align: right;\n",
       "    }\n",
       "</style>\n",
       "<table border=\"1\" class=\"dataframe\">\n",
       "  <thead>\n",
       "    <tr style=\"text-align: right;\">\n",
       "      <th></th>\n",
       "      <th>Y</th>\n",
       "    </tr>\n",
       "  </thead>\n",
       "  <tbody>\n",
       "    <tr>\n",
       "      <th>0</th>\n",
       "      <td>3.0</td>\n",
       "    </tr>\n",
       "    <tr>\n",
       "      <th>1</th>\n",
       "      <td>8.0</td>\n",
       "    </tr>\n",
       "    <tr>\n",
       "      <th>2</th>\n",
       "      <td>10.0</td>\n",
       "    </tr>\n",
       "    <tr>\n",
       "      <th>3</th>\n",
       "      <td>-1.0</td>\n",
       "    </tr>\n",
       "    <tr>\n",
       "      <th>4</th>\n",
       "      <td>-3.0</td>\n",
       "    </tr>\n",
       "    <tr>\n",
       "      <th>5</th>\n",
       "      <td>2.0</td>\n",
       "    </tr>\n",
       "  </tbody>\n",
       "</table>\n",
       "</div>"
      ],
      "text/plain": [
       "      Y\n",
       "0   3.0\n",
       "1   8.0\n",
       "2  10.0\n",
       "3  -1.0\n",
       "4  -3.0\n",
       "5   2.0"
      ]
     },
     "execution_count": 71,
     "metadata": {},
     "output_type": "execute_result"
    }
   ],
   "source": []
  },
  {
   "cell_type": "code",
   "execution_count": null,
   "id": "88cb0fc0",
   "metadata": {},
   "outputs": [],
   "source": []
  },
  {
   "cell_type": "code",
   "execution_count": null,
   "id": "61cd8178",
   "metadata": {},
   "outputs": [],
   "source": []
  },
  {
   "cell_type": "code",
   "execution_count": null,
   "id": "fcae9adb",
   "metadata": {},
   "outputs": [],
   "source": []
  },
  {
   "cell_type": "code",
   "execution_count": null,
   "id": "bccbc9c4",
   "metadata": {},
   "outputs": [],
   "source": []
  },
  {
   "cell_type": "code",
   "execution_count": 39,
   "id": "aeb34d19",
   "metadata": {},
   "outputs": [],
   "source": [
    "myDatasetsLearnSecond = myLearningEx.StartLearning(myDatasets)"
   ]
  },
  {
   "cell_type": "code",
   "execution_count": 60,
   "id": "8a993ae8",
   "metadata": {},
   "outputs": [
    {
     "data": {
      "text/html": [
       "<div>\n",
       "<style scoped>\n",
       "    .dataframe tbody tr th:only-of-type {\n",
       "        vertical-align: middle;\n",
       "    }\n",
       "\n",
       "    .dataframe tbody tr th {\n",
       "        vertical-align: top;\n",
       "    }\n",
       "\n",
       "    .dataframe thead th {\n",
       "        text-align: right;\n",
       "    }\n",
       "</style>\n",
       "<table border=\"1\" class=\"dataframe\">\n",
       "  <thead>\n",
       "    <tr style=\"text-align: right;\">\n",
       "      <th></th>\n",
       "      <th>X1</th>\n",
       "      <th>X2</th>\n",
       "      <th>Y</th>\n",
       "      <th>HCoordinates</th>\n",
       "      <th>x_Dash</th>\n",
       "      <th>Y_Dash</th>\n",
       "      <th>error</th>\n",
       "    </tr>\n",
       "  </thead>\n",
       "  <tbody>\n",
       "    <tr>\n",
       "      <th>0</th>\n",
       "      <td>1</td>\n",
       "      <td>0</td>\n",
       "      <td>1</td>\n",
       "      <td>1</td>\n",
       "      <td>0.0</td>\n",
       "      <td>-1</td>\n",
       "      <td>2</td>\n",
       "    </tr>\n",
       "    <tr>\n",
       "      <th>1</th>\n",
       "      <td>3</td>\n",
       "      <td>1</td>\n",
       "      <td>1</td>\n",
       "      <td>1</td>\n",
       "      <td>-3.0</td>\n",
       "      <td>-1</td>\n",
       "      <td>2</td>\n",
       "    </tr>\n",
       "    <tr>\n",
       "      <th>2</th>\n",
       "      <td>4</td>\n",
       "      <td>2</td>\n",
       "      <td>1</td>\n",
       "      <td>1</td>\n",
       "      <td>-7.0</td>\n",
       "      <td>-1</td>\n",
       "      <td>2</td>\n",
       "    </tr>\n",
       "    <tr>\n",
       "      <th>3</th>\n",
       "      <td>0</td>\n",
       "      <td>1</td>\n",
       "      <td>-1</td>\n",
       "      <td>1</td>\n",
       "      <td>-6.0</td>\n",
       "      <td>-1</td>\n",
       "      <td>0</td>\n",
       "    </tr>\n",
       "    <tr>\n",
       "      <th>4</th>\n",
       "      <td>1</td>\n",
       "      <td>6</td>\n",
       "      <td>-1</td>\n",
       "      <td>1</td>\n",
       "      <td>-30.0</td>\n",
       "      <td>-1</td>\n",
       "      <td>0</td>\n",
       "    </tr>\n",
       "    <tr>\n",
       "      <th>5</th>\n",
       "      <td>2</td>\n",
       "      <td>4</td>\n",
       "      <td>-1</td>\n",
       "      <td>1</td>\n",
       "      <td>-19.0</td>\n",
       "      <td>-1</td>\n",
       "      <td>0</td>\n",
       "    </tr>\n",
       "  </tbody>\n",
       "</table>\n",
       "</div>"
      ],
      "text/plain": [
       "   X1  X2  Y  HCoordinates  x_Dash  Y_Dash  error\n",
       "0   1   0  1             1     0.0      -1      2\n",
       "1   3   1  1             1    -3.0      -1      2\n",
       "2   4   2  1             1    -7.0      -1      2\n",
       "3   0   1 -1             1    -6.0      -1      0\n",
       "4   1   6 -1             1   -30.0      -1      0\n",
       "5   2   4 -1             1   -19.0      -1      0"
      ]
     },
     "execution_count": 60,
     "metadata": {},
     "output_type": "execute_result"
    }
   ],
   "source": [
    "myDatasetsLearnSecond"
   ]
  },
  {
   "cell_type": "code",
   "execution_count": 53,
   "id": "d41dfee5",
   "metadata": {},
   "outputs": [
    {
     "data": {
      "text/plain": [
       "tensor([[ 3., -1.,  0.]], device='cuda:0')"
      ]
     },
     "execution_count": 53,
     "metadata": {},
     "output_type": "execute_result"
    }
   ],
   "source": []
  },
  {
   "cell_type": "code",
   "execution_count": 20,
   "id": "36ab33f6",
   "metadata": {},
   "outputs": [],
   "source": [
    "# Now lets add the Homogeneous coordinates\n",
    "\n",
    "TestData[\"HCoordinates\"] = TestData.apply(lambda x: 1, axis = 1)"
   ]
  },
  {
   "cell_type": "code",
   "execution_count": 21,
   "id": "dd97dad4",
   "metadata": {},
   "outputs": [
    {
     "data": {
      "text/html": [
       "<div>\n",
       "<style scoped>\n",
       "    .dataframe tbody tr th:only-of-type {\n",
       "        vertical-align: middle;\n",
       "    }\n",
       "\n",
       "    .dataframe tbody tr th {\n",
       "        vertical-align: top;\n",
       "    }\n",
       "\n",
       "    .dataframe thead th {\n",
       "        text-align: right;\n",
       "    }\n",
       "</style>\n",
       "<table border=\"1\" class=\"dataframe\">\n",
       "  <thead>\n",
       "    <tr style=\"text-align: right;\">\n",
       "      <th></th>\n",
       "      <th>X1</th>\n",
       "      <th>X2</th>\n",
       "      <th>Y</th>\n",
       "      <th>HCoordinates</th>\n",
       "      <th>x_Dash</th>\n",
       "      <th>Y_Dash</th>\n",
       "      <th>error</th>\n",
       "    </tr>\n",
       "  </thead>\n",
       "  <tbody>\n",
       "    <tr>\n",
       "      <th>0</th>\n",
       "      <td>1</td>\n",
       "      <td>0</td>\n",
       "      <td>1</td>\n",
       "      <td>1</td>\n",
       "      <td>3.0</td>\n",
       "      <td>1</td>\n",
       "      <td>0</td>\n",
       "    </tr>\n",
       "    <tr>\n",
       "      <th>1</th>\n",
       "      <td>3</td>\n",
       "      <td>1</td>\n",
       "      <td>1</td>\n",
       "      <td>1</td>\n",
       "      <td>8.0</td>\n",
       "      <td>1</td>\n",
       "      <td>0</td>\n",
       "    </tr>\n",
       "    <tr>\n",
       "      <th>2</th>\n",
       "      <td>4</td>\n",
       "      <td>2</td>\n",
       "      <td>1</td>\n",
       "      <td>1</td>\n",
       "      <td>10.0</td>\n",
       "      <td>1</td>\n",
       "      <td>0</td>\n",
       "    </tr>\n",
       "    <tr>\n",
       "      <th>3</th>\n",
       "      <td>0</td>\n",
       "      <td>1</td>\n",
       "      <td>-1</td>\n",
       "      <td>1</td>\n",
       "      <td>-1.0</td>\n",
       "      <td>-1</td>\n",
       "      <td>0</td>\n",
       "    </tr>\n",
       "    <tr>\n",
       "      <th>4</th>\n",
       "      <td>1</td>\n",
       "      <td>6</td>\n",
       "      <td>-1</td>\n",
       "      <td>1</td>\n",
       "      <td>-3.0</td>\n",
       "      <td>-1</td>\n",
       "      <td>0</td>\n",
       "    </tr>\n",
       "    <tr>\n",
       "      <th>5</th>\n",
       "      <td>2</td>\n",
       "      <td>4</td>\n",
       "      <td>-1</td>\n",
       "      <td>1</td>\n",
       "      <td>2.0</td>\n",
       "      <td>1</td>\n",
       "      <td>-2</td>\n",
       "    </tr>\n",
       "  </tbody>\n",
       "</table>\n",
       "</div>"
      ],
      "text/plain": [
       "   X1  X2  Y  HCoordinates  x_Dash  Y_Dash  error\n",
       "0   1   0  1             1     3.0       1      0\n",
       "1   3   1  1             1     8.0       1      0\n",
       "2   4   2  1             1    10.0       1      0\n",
       "3   0   1 -1             1    -1.0      -1      0\n",
       "4   1   6 -1             1    -3.0      -1      0\n",
       "5   2   4 -1             1     2.0       1     -2"
      ]
     },
     "execution_count": 21,
     "metadata": {},
     "output_type": "execute_result"
    }
   ],
   "source": [
    "TestData"
   ]
  },
  {
   "cell_type": "code",
   "execution_count": 22,
   "id": "4ad80eba",
   "metadata": {},
   "outputs": [],
   "source": [
    "# lets create x as feature set\n",
    "X = TestData[[\"X1\",\"X2\",\"HCoordinates\"]]"
   ]
  },
  {
   "cell_type": "code",
   "execution_count": 23,
   "id": "dc136194",
   "metadata": {},
   "outputs": [],
   "source": [
    "# lets create y as target set\n",
    "Y = TestData[[\"Y\"]]"
   ]
  },
  {
   "cell_type": "code",
   "execution_count": 24,
   "id": "b13c65b1",
   "metadata": {},
   "outputs": [],
   "source": [
    "import pandas as pd\n",
    "import torch\n",
    "\n",
    "# determine the supported device\n",
    "def get_device():\n",
    "    if torch.cuda.is_available():\n",
    "        device = torch.device('cuda:0')\n",
    "    else:\n",
    "        device = torch.device('cpu') # don't have GPU \n",
    "    return device\n",
    "\n",
    "# convert a df to tensor to be used in pytorch\n",
    "def df_to_tensor(df):\n",
    "    device = get_device()\n",
    "    return torch.from_numpy(df.values).float().to(device)"
   ]
  },
  {
   "cell_type": "code",
   "execution_count": 25,
   "id": "c95bffbc",
   "metadata": {},
   "outputs": [],
   "source": [
    "# lets convert the dataframe to torch.tensor\n",
    "df_tensor = df_to_tensor(X)"
   ]
  },
  {
   "cell_type": "code",
   "execution_count": 26,
   "id": "07c13aff",
   "metadata": {},
   "outputs": [
    {
     "data": {
      "text/plain": [
       "tensor([[1., 0., 1.],\n",
       "        [3., 1., 1.],\n",
       "        [4., 2., 1.],\n",
       "        [0., 1., 1.],\n",
       "        [1., 6., 1.],\n",
       "        [2., 4., 1.]], device='cuda:0')"
      ]
     },
     "execution_count": 26,
     "metadata": {},
     "output_type": "execute_result"
    }
   ],
   "source": [
    "df_tensor"
   ]
  },
  {
   "cell_type": "code",
   "execution_count": 27,
   "id": "2cbe9db5",
   "metadata": {},
   "outputs": [],
   "source": [
    "# lets define the initial weight\n",
    "w = torch.tensor([[3,-1,0]]).float()"
   ]
  },
  {
   "cell_type": "code",
   "execution_count": 28,
   "id": "6be7e037",
   "metadata": {},
   "outputs": [],
   "source": [
    "# set device to cuda\n",
    "device = torch.device('cuda:0')"
   ]
  },
  {
   "cell_type": "code",
   "execution_count": 29,
   "id": "72fa64d5",
   "metadata": {},
   "outputs": [],
   "source": [
    "# copy the calculation to cuda device\n",
    "wt = w.t().to(device)"
   ]
  },
  {
   "cell_type": "code",
   "execution_count": 30,
   "id": "bb092ed5",
   "metadata": {},
   "outputs": [],
   "source": [
    "# predict the target sets\n",
    "y = torch.matmul(df_tensor, wt)"
   ]
  },
  {
   "cell_type": "code",
   "execution_count": 31,
   "id": "7f7ea88c",
   "metadata": {},
   "outputs": [
    {
     "data": {
      "text/plain": [
       "tensor([[ 3.],\n",
       "        [ 8.],\n",
       "        [10.],\n",
       "        [-1.],\n",
       "        [-3.],\n",
       "        [ 2.]], device='cuda:0')"
      ]
     },
     "execution_count": 31,
     "metadata": {},
     "output_type": "execute_result"
    }
   ],
   "source": [
    "y"
   ]
  },
  {
   "cell_type": "code",
   "execution_count": 32,
   "id": "a81474fb",
   "metadata": {},
   "outputs": [
    {
     "data": {
      "text/plain": [
       "tensor([[1],\n",
       "        [1],\n",
       "        [1],\n",
       "        [0],\n",
       "        [0],\n",
       "        [1]], device='cuda:0')"
      ]
     },
     "execution_count": 32,
     "metadata": {},
     "output_type": "execute_result"
    }
   ],
   "source": [
    "# apply the activation function here perceptron\n",
    "(y > 1) * 1"
   ]
  },
  {
   "cell_type": "code",
   "execution_count": 33,
   "id": "605c221e",
   "metadata": {},
   "outputs": [],
   "source": [
    "# copy the y array to cpu device\n",
    "y = y.cpu().numpy()"
   ]
  },
  {
   "cell_type": "code",
   "execution_count": 34,
   "id": "04859dce",
   "metadata": {},
   "outputs": [],
   "source": [
    "# create a new column with predicted result\n",
    "TestData[\"x_Dash\"] = y"
   ]
  },
  {
   "cell_type": "code",
   "execution_count": 42,
   "id": "de544770",
   "metadata": {},
   "outputs": [
    {
     "data": {
      "image/png": "[encoded data removed]",
      "text/plain": [
       "<Figure size 432x288 with 1 Axes>"
      ]
     },
     "metadata": {
      "needs_background": "light"
     },
     "output_type": "display_data"
    }
   ],
   "source": [
    "# visualize the first iteration of the seperating line for two category \n",
    "import numpy as np\n",
    "from matplotlib import pyplot as plt\n",
    "\n",
    "plt.rcParams[\"figure.figsize\"] = [7.50, 3.50]\n",
    "plt.rcParams[\"figure.autolayout\"] = True\n",
    "\n",
    "fig, ax = plt.subplots()\n",
    "plt.scatter('X1', 'X2', c='Y', s=30, data=myDatasetsLearnSecond)\n",
    "plt.plot('X1', 'x_Dash', \"r-o\", data=myDatasetsLearnSecond);\n",
    "plt.title('Graph of 3x-1x=0')\n",
    "plt.xlabel('X1')\n",
    "plt.ylabel('X2')\n",
    "plt.legend(loc='upper left')\n",
    "plt.grid()\n",
    "plt.show()"
   ]
  },
  {
   "cell_type": "code",
   "execution_count": 36,
   "id": "e41a69ae",
   "metadata": {},
   "outputs": [],
   "source": [
    "# create a predicted column\n",
    "TestData[\"Y_Dash\"] = (y > 1) * 1"
   ]
  },
  {
   "cell_type": "code",
   "execution_count": 37,
   "id": "26ba12f7",
   "metadata": {},
   "outputs": [],
   "source": [
    "TestData[\"Y_Dash\"] = TestData[\"Y_Dash\"].apply(lambda x: -1 if x == 0 else x)"
   ]
  },
  {
   "cell_type": "code",
   "execution_count": 38,
   "id": "a462c9d3",
   "metadata": {},
   "outputs": [],
   "source": [
    "TestData[\"error\"] = TestData[\"Y\"] - TestData[\"Y_Dash\"]"
   ]
  },
  {
   "cell_type": "code",
   "execution_count": 39,
   "id": "ddde0a59",
   "metadata": {},
   "outputs": [
    {
     "data": {
      "text/html": [
       "<div>\n",
       "<style scoped>\n",
       "    .dataframe tbody tr th:only-of-type {\n",
       "        vertical-align: middle;\n",
       "    }\n",
       "\n",
       "    .dataframe tbody tr th {\n",
       "        vertical-align: top;\n",
       "    }\n",
       "\n",
       "    .dataframe thead th {\n",
       "        text-align: right;\n",
       "    }\n",
       "</style>\n",
       "<table border=\"1\" class=\"dataframe\">\n",
       "  <thead>\n",
       "    <tr style=\"text-align: right;\">\n",
       "      <th></th>\n",
       "      <th>X1</th>\n",
       "      <th>X2</th>\n",
       "      <th>Y</th>\n",
       "      <th>HCoordinates</th>\n",
       "      <th>x_Dash</th>\n",
       "      <th>Y_Dash</th>\n",
       "      <th>error</th>\n",
       "    </tr>\n",
       "  </thead>\n",
       "  <tbody>\n",
       "    <tr>\n",
       "      <th>0</th>\n",
       "      <td>1</td>\n",
       "      <td>0</td>\n",
       "      <td>1</td>\n",
       "      <td>1</td>\n",
       "      <td>3.0</td>\n",
       "      <td>1</td>\n",
       "      <td>0</td>\n",
       "    </tr>\n",
       "    <tr>\n",
       "      <th>1</th>\n",
       "      <td>3</td>\n",
       "      <td>1</td>\n",
       "      <td>1</td>\n",
       "      <td>1</td>\n",
       "      <td>8.0</td>\n",
       "      <td>1</td>\n",
       "      <td>0</td>\n",
       "    </tr>\n",
       "    <tr>\n",
       "      <th>2</th>\n",
       "      <td>4</td>\n",
       "      <td>2</td>\n",
       "      <td>1</td>\n",
       "      <td>1</td>\n",
       "      <td>10.0</td>\n",
       "      <td>1</td>\n",
       "      <td>0</td>\n",
       "    </tr>\n",
       "    <tr>\n",
       "      <th>3</th>\n",
       "      <td>0</td>\n",
       "      <td>1</td>\n",
       "      <td>-1</td>\n",
       "      <td>1</td>\n",
       "      <td>-1.0</td>\n",
       "      <td>-1</td>\n",
       "      <td>0</td>\n",
       "    </tr>\n",
       "    <tr>\n",
       "      <th>4</th>\n",
       "      <td>1</td>\n",
       "      <td>6</td>\n",
       "      <td>-1</td>\n",
       "      <td>1</td>\n",
       "      <td>-3.0</td>\n",
       "      <td>-1</td>\n",
       "      <td>0</td>\n",
       "    </tr>\n",
       "    <tr>\n",
       "      <th>5</th>\n",
       "      <td>2</td>\n",
       "      <td>4</td>\n",
       "      <td>-1</td>\n",
       "      <td>1</td>\n",
       "      <td>2.0</td>\n",
       "      <td>1</td>\n",
       "      <td>-2</td>\n",
       "    </tr>\n",
       "  </tbody>\n",
       "</table>\n",
       "</div>"
      ],
      "text/plain": [
       "   X1  X2  Y  HCoordinates  x_Dash  Y_Dash  error\n",
       "0   1   0  1             1     3.0       1      0\n",
       "1   3   1  1             1     8.0       1      0\n",
       "2   4   2  1             1    10.0       1      0\n",
       "3   0   1 -1             1    -1.0      -1      0\n",
       "4   1   6 -1             1    -3.0      -1      0\n",
       "5   2   4 -1             1     2.0       1     -2"
      ]
     },
     "execution_count": 39,
     "metadata": {},
     "output_type": "execute_result"
    }
   ],
   "source": [
    "TestData"
   ]
  },
  {
   "cell_type": "code",
   "execution_count": 40,
   "id": "e1d18622",
   "metadata": {},
   "outputs": [],
   "source": [
    "# so the error term is\n",
    "x_error = df_to_tensor(TestData[[\"X1\",\"X2\",\"HCoordinates\"]][TestData.error != 0])"
   ]
  },
  {
   "cell_type": "code",
   "execution_count": 41,
   "id": "d1cd9894",
   "metadata": {},
   "outputs": [],
   "source": [
    "# so the y term is\n",
    "y_error = df_to_tensor(TestData[[\"Y\"]][TestData.error != 0])"
   ]
  },
  {
   "cell_type": "code",
   "execution_count": 42,
   "id": "362ba355",
   "metadata": {},
   "outputs": [
    {
     "data": {
      "text/plain": [
       "tensor([[-1.]], device='cuda:0')"
      ]
     },
     "execution_count": 42,
     "metadata": {},
     "output_type": "execute_result"
    }
   ],
   "source": [
    "y_error"
   ]
  },
  {
   "cell_type": "code",
   "execution_count": 43,
   "id": "bb757430",
   "metadata": {},
   "outputs": [
    {
     "data": {
      "text/plain": [
       "tensor([[2., 4., 1.]], device='cuda:0')"
      ]
     },
     "execution_count": 43,
     "metadata": {},
     "output_type": "execute_result"
    }
   ],
   "source": [
    "x_error"
   ]
  },
  {
   "cell_type": "code",
   "execution_count": 44,
   "id": "e7e2907b",
   "metadata": {},
   "outputs": [],
   "source": [
    "w0 = w.to(device)"
   ]
  },
  {
   "cell_type": "code",
   "execution_count": 45,
   "id": "88fef2c4",
   "metadata": {},
   "outputs": [],
   "source": [
    "w3  = w0 + (y_error * x_error)"
   ]
  },
  {
   "cell_type": "code",
   "execution_count": 55,
   "id": "e89f54e9",
   "metadata": {},
   "outputs": [],
   "source": []
  },
  {
   "cell_type": "code",
   "execution_count": 56,
   "id": "f836d413",
   "metadata": {},
   "outputs": [
    {
     "data": {
      "text/plain": [
       "tensor([[  0.,  -3.,  -7.,  -6., -30., -19.]], device='cuda:0')"
      ]
     },
     "execution_count": 56,
     "metadata": {},
     "output_type": "execute_result"
    }
   ],
   "source": []
  },
  {
   "cell_type": "code",
   "execution_count": 46,
   "id": "f9b9b89c",
   "metadata": {},
   "outputs": [],
   "source": [
    "# copy the calculation to cuda device\n",
    "w2 = w3.t().to(device)"
   ]
  },
  {
   "cell_type": "code",
   "execution_count": 47,
   "id": "f2fc65dd",
   "metadata": {},
   "outputs": [],
   "source": [
    "# predict the target sets\n",
    "y1 = torch.matmul(df_tensor, w2)"
   ]
  },
  {
   "cell_type": "code",
   "execution_count": 48,
   "id": "26b0edf4",
   "metadata": {},
   "outputs": [],
   "source": [
    "# copy the y array to cpu device\n",
    "y1 = y1.cpu().numpy()"
   ]
  },
  {
   "cell_type": "code",
   "execution_count": 49,
   "id": "7b17b03c",
   "metadata": {},
   "outputs": [],
   "source": [
    "# create a new column with predicted result\n",
    "TestData[\"x_Dash\"] = y1"
   ]
  },
  {
   "cell_type": "code",
   "execution_count": 50,
   "id": "0628e2f7",
   "metadata": {},
   "outputs": [
    {
     "data": {
      "image/png": "[encoded data removed]",
      "text/plain": [
       "<Figure size 540x252 with 1 Axes>"
      ]
     },
     "metadata": {
      "needs_background": "light"
     },
     "output_type": "display_data"
    }
   ],
   "source": [
    "# visualize the first iteration of the seperating line for two category \n",
    "import numpy as np\n",
    "from matplotlib import pyplot as plt\n",
    "\n",
    "plt.rcParams[\"figure.figsize\"] = [7.50, 3.50]\n",
    "plt.rcParams[\"figure.autolayout\"] = True\n",
    "\n",
    "fig, ax = plt.subplots()\n",
    "plt.scatter('X1', 'X2', c='Y', s=30, data=TestData)\n",
    "plt.plot('X1', 'x_Dash', \"r-o\", data=TestData);\n",
    "plt.title('Graph of 3x-1x=0')\n",
    "plt.xlabel('X1')\n",
    "plt.ylabel('X2')\n",
    "plt.legend(loc='upper left')\n",
    "plt.grid()\n",
    "plt.show()"
   ]
  },
  {
   "cell_type": "code",
   "execution_count": 51,
   "id": "0dac7294",
   "metadata": {},
   "outputs": [
    {
     "data": {
      "text/plain": [
       "array([[  0.],\n",
       "       [ -3.],\n",
       "       [ -7.],\n",
       "       [ -6.],\n",
       "       [-30.],\n",
       "       [-19.]], dtype=float32)"
      ]
     },
     "execution_count": 51,
     "metadata": {},
     "output_type": "execute_result"
    }
   ],
   "source": [
    "# apply the activation function here perceptron\n",
    "y1"
   ]
  },
  {
   "cell_type": "code",
   "execution_count": null,
   "id": "74072ee4",
   "metadata": {},
   "outputs": [],
   "source": []
  },
  {
   "cell_type": "code",
   "execution_count": null,
   "id": "32d80e95",
   "metadata": {},
   "outputs": [],
   "source": []
  }
 ],
 "metadata": {
  "kernelspec": {
   "display_name": "Python 3 (ipykernel)",
   "language": "python",
   "name": "python3"
  },
  "language_info": {
   "codemirror_mode": {
    "name": "ipython",
    "version": 3
   },
   "file_extension": ".py",
   "mimetype": "text/x-python",
   "name": "python",
   "nbconvert_exporter": "python",
   "pygments_lexer": "ipython3",
   "version": "3.8.13"
  },
  "vscode": {
   "interpreter": {
    "hash": "916dbcbb3f70747c44a77c7bcd40155683ae19c65e1c03b4aa3499c5328201f1"
   }
  }
 },
 "nbformat": 4,
 "nbformat_minor": 5
}
