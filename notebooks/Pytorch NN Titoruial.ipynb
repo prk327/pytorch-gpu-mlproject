{
 "cells": [
  {
   "cell_type": "markdown",
   "id": "777e0461",
   "metadata": {},
   "source": [
    "# Simple Neural Network using Pytorch"
   ]
  },
  {
   "cell_type": "code",
   "execution_count": 1,
   "id": "cb9db381",
   "metadata": {},
   "outputs": [
    {
     "name": "stderr",
     "output_type": "stream",
     "text": [
      "/opt/conda/lib/python3.8/site-packages/tqdm/auto.py:22: TqdmWarning: IProgress not found. Please update jupyter and ipywidgets. See https://ipywidgets.readthedocs.io/en/stable/user_install.html\n",
      "  from .autonotebook import tqdm as notebook_tqdm\n"
     ]
    }
   ],
   "source": [
    "# Import the torch neural network library\n",
    "import torch\n",
    "import torch.nn as nn"
   ]
  },
  {
   "cell_type": "markdown",
   "id": "450f52ac",
   "metadata": {},
   "source": [
    "2. Data Preparation  \n",
    "Now we will define variables like input size, hidden unit, output size, batch size, and the learning rate."
   ]
  },
  {
   "cell_type": "code",
   "execution_count": 2,
   "id": "36ded854",
   "metadata": {},
   "outputs": [],
   "source": [
    "n_input, n_hidden, n_out, batch_size, learning_rate = 10, 15, 1, 100, 0.01"
   ]
  },
  {
   "cell_type": "markdown",
   "id": "f75c5d31",
   "metadata": {},
   "source": [
    "We will now randomly initialize the dummy input and the output target data (or tensor)as follows:"
   ]
  },
  {
   "cell_type": "code",
   "execution_count": 3,
   "id": "410a9b2b",
   "metadata": {},
   "outputs": [],
   "source": [
    "# We initialized the input data with 100 data samples with 10 features each and respectively initialized the output data with 100 data points.\n",
    "data_x = torch.randn(batch_size, n_input)\n",
    "data_y = (torch.rand(size=(batch_size, 1)) < 0.5).float()"
   ]
  },
  {
   "cell_type": "code",
   "execution_count": 9,
   "id": "d4a7ee01",
   "metadata": {},
   "outputs": [
    {
     "name": "stdout",
     "output_type": "stream",
     "text": [
      "torch.Size([100, 10])\n",
      "torch.Size([100, 1])\n"
     ]
    }
   ],
   "source": [
    "print(data_x.size())\n",
    "print(data_y.size())"
   ]
  },
  {
   "cell_type": "markdown",
   "id": "3351c862",
   "metadata": {},
   "source": [
    "3. Define Neural Network Model  \n",
    "Using in-built functions, we will create the simple sequential model with output sigmoid layer as follows:"
   ]
  },
  {
   "cell_type": "code",
   "execution_count": 10,
   "id": "fa247d92",
   "metadata": {},
   "outputs": [
    {
     "name": "stdout",
     "output_type": "stream",
     "text": [
      "Sequential(\n",
      "  (0): Linear(in_features=10, out_features=15, bias=True)\n",
      "  (1): ReLU()\n",
      "  (2): Linear(in_features=15, out_features=1, bias=True)\n",
      "  (3): Sigmoid()\n",
      ")\n"
     ]
    }
   ],
   "source": [
    "model = nn.Sequential(nn.Linear(n_input, n_hidden),\n",
    "                      nn.ReLU(),\n",
    "                      nn.Linear(n_hidden, n_out),\n",
    "                      nn.Sigmoid())\n",
    "print(model)"
   ]
  },
  {
   "cell_type": "markdown",
   "id": "10f9382e",
   "metadata": {},
   "source": [
    "Next, we will define the loss function and the optimizer for gradient descent. Under the nn package, there are several different loss function.  \n",
    "Here we will use nn.MSELoss as the loss function of the model which computes the mean-squared error between the input and the target.  \n",
    "Similarly, torch.optim package provides various optimization algorithms. We will use stochastic gradient descent (SGD) optimizer."
   ]
  },
  {
   "cell_type": "code",
   "execution_count": 11,
   "id": "f21c706f",
   "metadata": {},
   "outputs": [],
   "source": [
    "loss_function = nn.MSELoss()\n",
    "optimizer = torch.optim.SGD(model.parameters(), lr=learning_rate)"
   ]
  },
  {
   "cell_type": "markdown",
   "id": "e8cf47e0",
   "metadata": {},
   "source": [
    "4. Training Loop\n",
    "\n",
    "Here, we will define the training loop with the following steps:  \n",
    "\n",
    "Forward propagation — compute the predicted y and calculate the current loss  \n",
    "Backward propagation — after each epoch we set the gradients to zero before starting to do backpropagation  \n",
    "Gradient descent — Finally, we will update model parameters by calling optimizer.step() function"
   ]
  },
  {
   "cell_type": "code",
   "execution_count": 12,
   "id": "ff59b9a0",
   "metadata": {},
   "outputs": [],
   "source": [
    "losses = []\n",
    "for epoch in range(5000):\n",
    "    pred_y = model(data_x)\n",
    "    loss = loss_function(pred_y, data_y)\n",
    "    losses.append(loss.item())\n",
    "\n",
    "    model.zero_grad()\n",
    "    loss.backward()\n",
    "\n",
    "    optimizer.step()"
   ]
  },
  {
   "cell_type": "markdown",
   "id": "e5363545",
   "metadata": {},
   "source": [
    "5. Output  \n",
    "\n",
    "We can plot the loss and see how the model is training over each epoch."
   ]
  },
  {
   "cell_type": "code",
   "execution_count": 14,
   "id": "91d3cdbd",
   "metadata": {},
   "outputs": [
    {
     "data": {
      "image/png": "[encoded data removed]",
      "text/plain": [
       "<Figure size 432x288 with 1 Axes>"
      ]
     },
     "metadata": {
      "needs_background": "light"
     },
     "output_type": "display_data"
    }
   ],
   "source": [
    "import matplotlib.pyplot as plt\n",
    "plt.plot(losses)\n",
    "plt.ylabel('loss')\n",
    "plt.xlabel('epoch')\n",
    "plt.title(\"Learning rate %f\"%(learning_rate))\n",
    "plt.show()"
   ]
  },
  {
   "cell_type": "markdown",
   "id": "213a1cf3",
   "metadata": {},
   "source": [
    "We can see the loss is decreasing in each epoch which shows that the parameters are being learned.\n",
    "\n",
    "In this tutorial, you learned a step-by-step approach to developing a simple neural network model in PyTorch.   \n",
    "Specifically, you learned how to initialize random data, define the neural network model, and train them. The major advantage of using PyTorch comes in twofold:  \n",
    "\n",
    "The use of a tensor that provides a capability of operating NumPy-like array in GPU (Graphical Processing Unit).  \n",
    "Availability of deep neural networks built on a tape-based automatic differentiation system.  \n",
    "Congrats on building and training your first neural network with PyTorch!"
   ]
  },
  {
   "cell_type": "code",
   "execution_count": 1,
   "id": "f17930ba",
   "metadata": {},
   "outputs": [],
   "source": [
    "a = [1,2,3,4]"
   ]
  },
  {
   "cell_type": "code",
   "execution_count": 2,
   "id": "fc110541",
   "metadata": {},
   "outputs": [
    {
     "name": "stderr",
     "output_type": "stream",
     "text": [
      "/opt/conda/lib/python3.8/site-packages/tqdm/auto.py:22: TqdmWarning: IProgress not found. Please update jupyter and ipywidgets. See https://ipywidgets.readthedocs.io/en/stable/user_install.html\n",
      "  from .autonotebook import tqdm as notebook_tqdm\n"
     ]
    }
   ],
   "source": [
    "import torch"
   ]
  },
  {
   "cell_type": "code",
   "execution_count": 3,
   "id": "019e1346",
   "metadata": {},
   "outputs": [],
   "source": [
    "tdat = torch.tensor([1,2,3,4])"
   ]
  },
  {
   "cell_type": "code",
   "execution_count": 11,
   "id": "0b0a086a",
   "metadata": {},
   "outputs": [],
   "source": [
    "device = torch.device('cuda:0')"
   ]
  },
  {
   "cell_type": "code",
   "execution_count": 13,
   "id": "5859ffae",
   "metadata": {},
   "outputs": [],
   "source": [
    "t1 = torch.tensor([\n",
    "    [1,1,1,1],\n",
    "    [1,1,1,1],\n",
    "    [1,1,1,1],\n",
    "    [1,1,1,1]\n",
    "], dtype=torch.float32)"
   ]
  },
  {
   "cell_type": "code",
   "execution_count": 14,
   "id": "68253254",
   "metadata": {},
   "outputs": [],
   "source": [
    "t2 = torch.tensor([\n",
    "    [2,2,2,2],\n",
    "    [2,2,2,2],\n",
    "    [2,2,2,2],\n",
    "    [2,2,2,2]\n",
    "], dtype=torch.float32)"
   ]
  },
  {
   "cell_type": "code",
   "execution_count": 15,
   "id": "e55b733f",
   "metadata": {},
   "outputs": [],
   "source": [
    "t3 = torch.tensor([\n",
    "    [3,3,3,3],\n",
    "    [3,3,3,3],\n",
    "    [3,3,3,3],\n",
    "    [3,3,3,3]\n",
    "], dtype=torch.float32)"
   ]
  },
  {
   "cell_type": "code",
   "execution_count": 19,
   "id": "ef69c06a",
   "metadata": {},
   "outputs": [],
   "source": [
    "t = torch.stack((t1,t2,t3))"
   ]
  },
  {
   "cell_type": "code",
   "execution_count": 23,
   "id": "51984b08",
   "metadata": {},
   "outputs": [
    {
     "data": {
      "text/plain": [
       "3"
      ]
     },
     "execution_count": 23,
     "metadata": {},
     "output_type": "execute_result"
    }
   ],
   "source": [
    "#rank of the tensor, means the maximum index used to get to individual tensor\n",
    "len(t.shape)"
   ]
  },
  {
   "cell_type": "code",
   "execution_count": 25,
   "id": "12c63e3c",
   "metadata": {},
   "outputs": [
    {
     "data": {
      "text/plain": [
       "torch.Size([3, 4, 4])"
      ]
     },
     "execution_count": 25,
     "metadata": {},
     "output_type": "execute_result"
    }
   ],
   "source": [
    "# 3 is the batch size, 4 is height, and 4 is width\n",
    "t.shape"
   ]
  },
  {
   "cell_type": "code",
   "execution_count": 26,
   "id": "5a04aa9b",
   "metadata": {},
   "outputs": [
    {
     "data": {
      "text/plain": [
       "tensor([[[1., 1., 1., 1.],\n",
       "         [1., 1., 1., 1.],\n",
       "         [1., 1., 1., 1.],\n",
       "         [1., 1., 1., 1.]],\n",
       "\n",
       "        [[2., 2., 2., 2.],\n",
       "         [2., 2., 2., 2.],\n",
       "         [2., 2., 2., 2.],\n",
       "         [2., 2., 2., 2.]],\n",
       "\n",
       "        [[3., 3., 3., 3.],\n",
       "         [3., 3., 3., 3.],\n",
       "         [3., 3., 3., 3.],\n",
       "         [3., 3., 3., 3.]]])"
      ]
     },
     "execution_count": 26,
     "metadata": {},
     "output_type": "execute_result"
    }
   ],
   "source": [
    "# to work with CNN we need to have the color channel, so we will add the color as below\n",
    "t"
   ]
  },
  {
   "cell_type": "code",
   "execution_count": 27,
   "id": "f4655f8d",
   "metadata": {},
   "outputs": [
    {
     "data": {
      "text/plain": [
       "tensor([[[[1., 1., 1., 1.],\n",
       "          [1., 1., 1., 1.],\n",
       "          [1., 1., 1., 1.],\n",
       "          [1., 1., 1., 1.]]],\n",
       "\n",
       "\n",
       "        [[[2., 2., 2., 2.],\n",
       "          [2., 2., 2., 2.],\n",
       "          [2., 2., 2., 2.],\n",
       "          [2., 2., 2., 2.]]],\n",
       "\n",
       "\n",
       "        [[[3., 3., 3., 3.],\n",
       "          [3., 3., 3., 3.],\n",
       "          [3., 3., 3., 3.],\n",
       "          [3., 3., 3., 3.]]]])"
      ]
     },
     "execution_count": 27,
     "metadata": {},
     "output_type": "execute_result"
    }
   ],
   "source": [
    "t = t.reshape(3,1,4,4)\n",
    "t"
   ]
  },
  {
   "cell_type": "code",
   "execution_count": 28,
   "id": "10f10a80",
   "metadata": {},
   "outputs": [
    {
     "data": {
      "text/plain": [
       "tensor([[[1., 1., 1., 1.],\n",
       "         [1., 1., 1., 1.],\n",
       "         [1., 1., 1., 1.],\n",
       "         [1., 1., 1., 1.]]])"
      ]
     },
     "execution_count": 28,
     "metadata": {},
     "output_type": "execute_result"
    }
   ],
   "source": [
    "# First Image\n",
    "t[0]"
   ]
  },
  {
   "cell_type": "code",
   "execution_count": 29,
   "id": "85b7a9b2",
   "metadata": {},
   "outputs": [
    {
     "data": {
      "text/plain": [
       "tensor([[1., 1., 1., 1.],\n",
       "        [1., 1., 1., 1.],\n",
       "        [1., 1., 1., 1.],\n",
       "        [1., 1., 1., 1.]])"
      ]
     },
     "execution_count": 29,
     "metadata": {},
     "output_type": "execute_result"
    }
   ],
   "source": [
    "# First color channel\n",
    "t[0][0]"
   ]
  },
  {
   "cell_type": "code",
   "execution_count": 30,
   "id": "ff420c22",
   "metadata": {},
   "outputs": [
    {
     "data": {
      "text/plain": [
       "tensor([1., 1., 1., 1.])"
      ]
     },
     "execution_count": 30,
     "metadata": {},
     "output_type": "execute_result"
    }
   ],
   "source": [
    "# First height\n",
    "t[0][0][0]"
   ]
  },
  {
   "cell_type": "code",
   "execution_count": 31,
   "id": "b0d9d47d",
   "metadata": {},
   "outputs": [
    {
     "data": {
      "text/plain": [
       "tensor(1.)"
      ]
     },
     "execution_count": 31,
     "metadata": {},
     "output_type": "execute_result"
    }
   ],
   "source": [
    "# First width\n",
    "t[0][0][0][0]"
   ]
  },
  {
   "cell_type": "code",
   "execution_count": 32,
   "id": "23099b2a",
   "metadata": {},
   "outputs": [],
   "source": [
    "# We now need to flaten the tensor\n",
    "# but we don't need to flatten the whole tensor, we need to floatten only the image"
   ]
  },
  {
   "cell_type": "code",
   "execution_count": 35,
   "id": "df5a517f",
   "metadata": {},
   "outputs": [],
   "source": [
    "t0 = t.flatten(start_dim=1)"
   ]
  },
  {
   "cell_type": "code",
   "execution_count": 40,
   "id": "901ab877",
   "metadata": {},
   "outputs": [
    {
     "data": {
      "text/plain": [
       "tensor([[1., 1., 1., 1., 1., 1., 1., 1., 1., 1., 1., 1., 1., 1., 1., 1.],\n",
       "        [2., 2., 2., 2., 2., 2., 2., 2., 2., 2., 2., 2., 2., 2., 2., 2.],\n",
       "        [3., 3., 3., 3., 3., 3., 3., 3., 3., 3., 3., 3., 3., 3., 3., 3.]])"
      ]
     },
     "execution_count": 40,
     "metadata": {},
     "output_type": "execute_result"
    }
   ],
   "source": [
    "# element wise brpadcasting\n",
    "t0"
   ]
  },
  {
   "cell_type": "code",
   "execution_count": 41,
   "id": "8231a201",
   "metadata": {},
   "outputs": [
    {
     "data": {
      "text/plain": [
       "tensor([[2., 2., 2., 2., 2., 2., 2., 2., 2., 2., 2., 2., 2., 2., 2., 2.],\n",
       "        [3., 3., 3., 3., 3., 3., 3., 3., 3., 3., 3., 3., 3., 3., 3., 3.],\n",
       "        [4., 4., 4., 4., 4., 4., 4., 4., 4., 4., 4., 4., 4., 4., 4., 4.]])"
      ]
     },
     "execution_count": 41,
     "metadata": {},
     "output_type": "execute_result"
    }
   ],
   "source": [
    "# braadcasting preview\n",
    "t0[0] + t0"
   ]
  },
  {
   "cell_type": "code",
   "execution_count": 43,
   "id": "b0d6c2ca",
   "metadata": {},
   "outputs": [
    {
     "data": {
      "text/plain": [
       "tensor(96.)"
      ]
     },
     "execution_count": 43,
     "metadata": {},
     "output_type": "execute_result"
    }
   ],
   "source": [
    "# reduction operation, like sup, product etc\n",
    "t0.sum()"
   ]
  },
  {
   "cell_type": "code",
   "execution_count": 44,
   "id": "939e3578",
   "metadata": {},
   "outputs": [
    {
     "data": {
      "text/plain": [
       "48"
      ]
     },
     "execution_count": 44,
     "metadata": {},
     "output_type": "execute_result"
    }
   ],
   "source": [
    "# number of elements\n",
    "t0.numel()"
   ]
  },
  {
   "cell_type": "code",
   "execution_count": 45,
   "id": "e85688b3",
   "metadata": {},
   "outputs": [
    {
     "data": {
      "text/plain": [
       "tensor([6., 6., 6., 6., 6., 6., 6., 6., 6., 6., 6., 6., 6., 6., 6., 6.])"
      ]
     },
     "execution_count": 45,
     "metadata": {},
     "output_type": "execute_result"
    }
   ],
   "source": [
    "# Sum rows, without any group by or dimention\n",
    "t0.sum(dim=0)"
   ]
  },
  {
   "cell_type": "code",
   "execution_count": 46,
   "id": "b6977f85",
   "metadata": {},
   "outputs": [
    {
     "data": {
      "text/plain": [
       "tensor([16., 32., 48.])"
      ]
     },
     "execution_count": 46,
     "metadata": {},
     "output_type": "execute_result"
    }
   ],
   "source": [
    "# Sum rows, with one group by or dimention\n",
    "t0.sum(dim=1)"
   ]
  },
  {
   "cell_type": "code",
   "execution_count": null,
   "id": "1cf47aee",
   "metadata": {},
   "outputs": [],
   "source": []
  }
 ],
 "metadata": {
  "kernelspec": {
   "display_name": "Python 3 (ipykernel)",
   "language": "python",
   "name": "python3"
  },
  "language_info": {
   "codemirror_mode": {
    "name": "ipython",
    "version": 3
   },
   "file_extension": ".py",
   "mimetype": "text/x-python",
   "name": "python",
   "nbconvert_exporter": "python",
   "pygments_lexer": "ipython3",
   "version": "3.8.13"
  }
 },
 "nbformat": 4,
 "nbformat_minor": 5
}
